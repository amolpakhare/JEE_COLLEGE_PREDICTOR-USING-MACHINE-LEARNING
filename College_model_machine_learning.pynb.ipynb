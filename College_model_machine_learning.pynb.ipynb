{
 "cells": [
  {
   "cell_type": "markdown",
   "id": "02711553-5767-4eb4-8d0c-16aa68184725",
   "metadata": {},
   "source": [
    "# JEE COllege Predictor using ML"
   ]
  },
  {
   "cell_type": "markdown",
   "id": "ba391e46-2350-4763-b84e-348997f99abb",
   "metadata": {},
   "source": [
    "## **<span style=\"color: #ff3385;\">📥 Before we get started! Let's get our Imports</span>**"
   ]
  },
  {
   "cell_type": "code",
   "execution_count": 1,
   "id": "a069362b-8794-41fd-8c1b-e96c811a1614",
   "metadata": {},
   "outputs": [],
   "source": [
    "#imports\n",
    "\n",
    "import pandas as pd\n",
    "import numpy as np\n",
    "import matplotlib.pyplot as plt\n",
    "import seaborn as sns"
   ]
  },
  {
   "cell_type": "code",
   "execution_count": 3,
   "id": "3deecab8-28c8-41d8-b1f5-cdfae3856a48",
   "metadata": {},
   "outputs": [],
   "source": [
    "df=pd.read_csv(\"Jee admission dataset 2016-2021- darshan.txt\")"
   ]
  },
  {
   "cell_type": "code",
   "execution_count": 4,
   "id": "31de4c0f-49b1-4957-b905-a391fd828a17",
   "metadata": {},
   "outputs": [
    {
     "data": {
      "text/html": [
       "<div>\n",
       "<style scoped>\n",
       "    .dataframe tbody tr th:only-of-type {\n",
       "        vertical-align: middle;\n",
       "    }\n",
       "\n",
       "    .dataframe tbody tr th {\n",
       "        vertical-align: top;\n",
       "    }\n",
       "\n",
       "    .dataframe thead th {\n",
       "        text-align: right;\n",
       "    }\n",
       "</style>\n",
       "<table border=\"1\" class=\"dataframe\">\n",
       "  <thead>\n",
       "    <tr style=\"text-align: right;\">\n",
       "      <th></th>\n",
       "      <th>year</th>\n",
       "      <th>institute_type</th>\n",
       "      <th>round_no</th>\n",
       "      <th>quota</th>\n",
       "      <th>pool</th>\n",
       "      <th>institute_short</th>\n",
       "      <th>program_name</th>\n",
       "      <th>program_duration</th>\n",
       "      <th>degree_short</th>\n",
       "      <th>category</th>\n",
       "      <th>opening_rank</th>\n",
       "      <th>closing_rank</th>\n",
       "      <th>is_preparatory</th>\n",
       "      <th>Unnamed: 13</th>\n",
       "    </tr>\n",
       "  </thead>\n",
       "  <tbody>\n",
       "    <tr>\n",
       "      <th>0</th>\n",
       "      <td>2016</td>\n",
       "      <td>IIT</td>\n",
       "      <td>6</td>\n",
       "      <td>AI</td>\n",
       "      <td>Gender-Neutral</td>\n",
       "      <td>IIT-Bombay</td>\n",
       "      <td>Aerospace Engineering</td>\n",
       "      <td>4 Years</td>\n",
       "      <td>B.Tech</td>\n",
       "      <td>GEN</td>\n",
       "      <td>838</td>\n",
       "      <td>1841</td>\n",
       "      <td>0</td>\n",
       "      <td>NaN</td>\n",
       "    </tr>\n",
       "    <tr>\n",
       "      <th>1</th>\n",
       "      <td>2016</td>\n",
       "      <td>IIT</td>\n",
       "      <td>6</td>\n",
       "      <td>AI</td>\n",
       "      <td>Gender-Neutral</td>\n",
       "      <td>IIT-Bombay</td>\n",
       "      <td>Aerospace Engineering</td>\n",
       "      <td>4 Years</td>\n",
       "      <td>B.Tech</td>\n",
       "      <td>OBC-NCL</td>\n",
       "      <td>408</td>\n",
       "      <td>1098</td>\n",
       "      <td>0</td>\n",
       "      <td>NaN</td>\n",
       "    </tr>\n",
       "    <tr>\n",
       "      <th>2</th>\n",
       "      <td>2016</td>\n",
       "      <td>IIT</td>\n",
       "      <td>6</td>\n",
       "      <td>AI</td>\n",
       "      <td>Gender-Neutral</td>\n",
       "      <td>IIT-Bombay</td>\n",
       "      <td>Aerospace Engineering</td>\n",
       "      <td>4 Years</td>\n",
       "      <td>B.Tech</td>\n",
       "      <td>SC</td>\n",
       "      <td>297</td>\n",
       "      <td>468</td>\n",
       "      <td>0</td>\n",
       "      <td>NaN</td>\n",
       "    </tr>\n",
       "    <tr>\n",
       "      <th>3</th>\n",
       "      <td>2016</td>\n",
       "      <td>IIT</td>\n",
       "      <td>6</td>\n",
       "      <td>AI</td>\n",
       "      <td>Gender-Neutral</td>\n",
       "      <td>IIT-Bombay</td>\n",
       "      <td>Aerospace Engineering</td>\n",
       "      <td>4 Years</td>\n",
       "      <td>B.Tech</td>\n",
       "      <td>ST</td>\n",
       "      <td>79</td>\n",
       "      <td>145</td>\n",
       "      <td>0</td>\n",
       "      <td>NaN</td>\n",
       "    </tr>\n",
       "    <tr>\n",
       "      <th>4</th>\n",
       "      <td>2016</td>\n",
       "      <td>IIT</td>\n",
       "      <td>6</td>\n",
       "      <td>AI</td>\n",
       "      <td>Gender-Neutral</td>\n",
       "      <td>IIT-Bombay</td>\n",
       "      <td>Aerospace Engineering</td>\n",
       "      <td>4 Years</td>\n",
       "      <td>B.Tech</td>\n",
       "      <td>GEN-PWD</td>\n",
       "      <td>94</td>\n",
       "      <td>94</td>\n",
       "      <td>0</td>\n",
       "      <td>NaN</td>\n",
       "    </tr>\n",
       "  </tbody>\n",
       "</table>\n",
       "</div>"
      ],
      "text/plain": [
       "   year institute_type  round_no quota            pool institute_short  \\\n",
       "0  2016            IIT         6    AI  Gender-Neutral      IIT-Bombay   \n",
       "1  2016            IIT         6    AI  Gender-Neutral      IIT-Bombay   \n",
       "2  2016            IIT         6    AI  Gender-Neutral      IIT-Bombay   \n",
       "3  2016            IIT         6    AI  Gender-Neutral      IIT-Bombay   \n",
       "4  2016            IIT         6    AI  Gender-Neutral      IIT-Bombay   \n",
       "\n",
       "            program_name program_duration degree_short category  opening_rank  \\\n",
       "0  Aerospace Engineering          4 Years       B.Tech      GEN           838   \n",
       "1  Aerospace Engineering          4 Years       B.Tech  OBC-NCL           408   \n",
       "2  Aerospace Engineering          4 Years       B.Tech       SC           297   \n",
       "3  Aerospace Engineering          4 Years       B.Tech       ST            79   \n",
       "4  Aerospace Engineering          4 Years       B.Tech  GEN-PWD            94   \n",
       "\n",
       "   closing_rank  is_preparatory  Unnamed: 13  \n",
       "0          1841               0          NaN  \n",
       "1          1098               0          NaN  \n",
       "2           468               0          NaN  \n",
       "3           145               0          NaN  \n",
       "4            94               0          NaN  "
      ]
     },
     "execution_count": 4,
     "metadata": {},
     "output_type": "execute_result"
    }
   ],
   "source": [
    "df.head()"
   ]
  },
  {
   "cell_type": "code",
   "execution_count": 5,
   "id": "cd3d01c0-63b3-4316-aad8-a60d84038a18",
   "metadata": {},
   "outputs": [
    {
     "data": {
      "text/html": [
       "<div>\n",
       "<style scoped>\n",
       "    .dataframe tbody tr th:only-of-type {\n",
       "        vertical-align: middle;\n",
       "    }\n",
       "\n",
       "    .dataframe tbody tr th {\n",
       "        vertical-align: top;\n",
       "    }\n",
       "\n",
       "    .dataframe thead th {\n",
       "        text-align: right;\n",
       "    }\n",
       "</style>\n",
       "<table border=\"1\" class=\"dataframe\">\n",
       "  <thead>\n",
       "    <tr style=\"text-align: right;\">\n",
       "      <th></th>\n",
       "      <th>year</th>\n",
       "      <th>institute_type</th>\n",
       "      <th>round_no</th>\n",
       "      <th>quota</th>\n",
       "      <th>pool</th>\n",
       "      <th>institute_short</th>\n",
       "      <th>program_name</th>\n",
       "      <th>program_duration</th>\n",
       "      <th>degree_short</th>\n",
       "      <th>category</th>\n",
       "      <th>opening_rank</th>\n",
       "      <th>closing_rank</th>\n",
       "      <th>is_preparatory</th>\n",
       "      <th>Unnamed: 13</th>\n",
       "    </tr>\n",
       "  </thead>\n",
       "  <tbody>\n",
       "    <tr>\n",
       "      <th>0</th>\n",
       "      <td>2016</td>\n",
       "      <td>IIT</td>\n",
       "      <td>6</td>\n",
       "      <td>AI</td>\n",
       "      <td>Gender-Neutral</td>\n",
       "      <td>IIT-Bombay</td>\n",
       "      <td>Aerospace Engineering</td>\n",
       "      <td>4 Years</td>\n",
       "      <td>B.Tech</td>\n",
       "      <td>GEN</td>\n",
       "      <td>838</td>\n",
       "      <td>1841</td>\n",
       "      <td>0</td>\n",
       "      <td>NaN</td>\n",
       "    </tr>\n",
       "    <tr>\n",
       "      <th>1</th>\n",
       "      <td>2016</td>\n",
       "      <td>IIT</td>\n",
       "      <td>6</td>\n",
       "      <td>AI</td>\n",
       "      <td>Gender-Neutral</td>\n",
       "      <td>IIT-Bombay</td>\n",
       "      <td>Aerospace Engineering</td>\n",
       "      <td>4 Years</td>\n",
       "      <td>B.Tech</td>\n",
       "      <td>OBC-NCL</td>\n",
       "      <td>408</td>\n",
       "      <td>1098</td>\n",
       "      <td>0</td>\n",
       "      <td>NaN</td>\n",
       "    </tr>\n",
       "    <tr>\n",
       "      <th>2</th>\n",
       "      <td>2016</td>\n",
       "      <td>IIT</td>\n",
       "      <td>6</td>\n",
       "      <td>AI</td>\n",
       "      <td>Gender-Neutral</td>\n",
       "      <td>IIT-Bombay</td>\n",
       "      <td>Aerospace Engineering</td>\n",
       "      <td>4 Years</td>\n",
       "      <td>B.Tech</td>\n",
       "      <td>SC</td>\n",
       "      <td>297</td>\n",
       "      <td>468</td>\n",
       "      <td>0</td>\n",
       "      <td>NaN</td>\n",
       "    </tr>\n",
       "    <tr>\n",
       "      <th>3</th>\n",
       "      <td>2016</td>\n",
       "      <td>IIT</td>\n",
       "      <td>6</td>\n",
       "      <td>AI</td>\n",
       "      <td>Gender-Neutral</td>\n",
       "      <td>IIT-Bombay</td>\n",
       "      <td>Aerospace Engineering</td>\n",
       "      <td>4 Years</td>\n",
       "      <td>B.Tech</td>\n",
       "      <td>ST</td>\n",
       "      <td>79</td>\n",
       "      <td>145</td>\n",
       "      <td>0</td>\n",
       "      <td>NaN</td>\n",
       "    </tr>\n",
       "    <tr>\n",
       "      <th>4</th>\n",
       "      <td>2016</td>\n",
       "      <td>IIT</td>\n",
       "      <td>6</td>\n",
       "      <td>AI</td>\n",
       "      <td>Gender-Neutral</td>\n",
       "      <td>IIT-Bombay</td>\n",
       "      <td>Aerospace Engineering</td>\n",
       "      <td>4 Years</td>\n",
       "      <td>B.Tech</td>\n",
       "      <td>GEN-PWD</td>\n",
       "      <td>94</td>\n",
       "      <td>94</td>\n",
       "      <td>0</td>\n",
       "      <td>NaN</td>\n",
       "    </tr>\n",
       "    <tr>\n",
       "      <th>...</th>\n",
       "      <td>...</td>\n",
       "      <td>...</td>\n",
       "      <td>...</td>\n",
       "      <td>...</td>\n",
       "      <td>...</td>\n",
       "      <td>...</td>\n",
       "      <td>...</td>\n",
       "      <td>...</td>\n",
       "      <td>...</td>\n",
       "      <td>...</td>\n",
       "      <td>...</td>\n",
       "      <td>...</td>\n",
       "      <td>...</td>\n",
       "      <td>...</td>\n",
       "    </tr>\n",
       "    <tr>\n",
       "      <th>64953</th>\n",
       "      <td>2021</td>\n",
       "      <td>NIT</td>\n",
       "      <td>1</td>\n",
       "      <td>JK</td>\n",
       "      <td>Female-Only</td>\n",
       "      <td>NIT-Srinagar</td>\n",
       "      <td>Electronics and Communication Engineering</td>\n",
       "      <td>4 Years</td>\n",
       "      <td>B.Tech</td>\n",
       "      <td>SC</td>\n",
       "      <td>14185</td>\n",
       "      <td>24048</td>\n",
       "      <td>0</td>\n",
       "      <td>NaN</td>\n",
       "    </tr>\n",
       "    <tr>\n",
       "      <th>64954</th>\n",
       "      <td>2021</td>\n",
       "      <td>NIT</td>\n",
       "      <td>1</td>\n",
       "      <td>JK</td>\n",
       "      <td>Gender-Neutral</td>\n",
       "      <td>NIT-Srinagar</td>\n",
       "      <td>Electronics and Communication Engineering</td>\n",
       "      <td>4 Years</td>\n",
       "      <td>B.Tech</td>\n",
       "      <td>ST</td>\n",
       "      <td>2736</td>\n",
       "      <td>4171</td>\n",
       "      <td>0</td>\n",
       "      <td>NaN</td>\n",
       "    </tr>\n",
       "    <tr>\n",
       "      <th>64955</th>\n",
       "      <td>2021</td>\n",
       "      <td>NIT</td>\n",
       "      <td>1</td>\n",
       "      <td>JK</td>\n",
       "      <td>Female-Only</td>\n",
       "      <td>NIT-Srinagar</td>\n",
       "      <td>Electronics and Communication Engineering</td>\n",
       "      <td>4 Years</td>\n",
       "      <td>B.Tech</td>\n",
       "      <td>ST</td>\n",
       "      <td>10870</td>\n",
       "      <td>10870</td>\n",
       "      <td>0</td>\n",
       "      <td>NaN</td>\n",
       "    </tr>\n",
       "    <tr>\n",
       "      <th>64956</th>\n",
       "      <td>2021</td>\n",
       "      <td>NIT</td>\n",
       "      <td>1</td>\n",
       "      <td>LA</td>\n",
       "      <td>Gender-Neutral</td>\n",
       "      <td>NIT-Srinagar</td>\n",
       "      <td>Electronics and Communication Engineering</td>\n",
       "      <td>4 Years</td>\n",
       "      <td>B.Tech</td>\n",
       "      <td>GEN</td>\n",
       "      <td>166453</td>\n",
       "      <td>265454</td>\n",
       "      <td>0</td>\n",
       "      <td>NaN</td>\n",
       "    </tr>\n",
       "    <tr>\n",
       "      <th>64957</th>\n",
       "      <td>2021</td>\n",
       "      <td>NIT</td>\n",
       "      <td>1</td>\n",
       "      <td>LA</td>\n",
       "      <td>Female-Only</td>\n",
       "      <td>NIT-Srinagar</td>\n",
       "      <td>Electronics and Communication Engineering</td>\n",
       "      <td>4 Years</td>\n",
       "      <td>B.Tech</td>\n",
       "      <td>GEN</td>\n",
       "      <td>215054</td>\n",
       "      <td>215054</td>\n",
       "      <td>0</td>\n",
       "      <td>NaN</td>\n",
       "    </tr>\n",
       "  </tbody>\n",
       "</table>\n",
       "<p>64958 rows × 14 columns</p>\n",
       "</div>"
      ],
      "text/plain": [
       "       year institute_type  round_no quota            pool institute_short  \\\n",
       "0      2016            IIT         6    AI  Gender-Neutral      IIT-Bombay   \n",
       "1      2016            IIT         6    AI  Gender-Neutral      IIT-Bombay   \n",
       "2      2016            IIT         6    AI  Gender-Neutral      IIT-Bombay   \n",
       "3      2016            IIT         6    AI  Gender-Neutral      IIT-Bombay   \n",
       "4      2016            IIT         6    AI  Gender-Neutral      IIT-Bombay   \n",
       "...     ...            ...       ...   ...             ...             ...   \n",
       "64953  2021            NIT         1    JK     Female-Only    NIT-Srinagar   \n",
       "64954  2021            NIT         1    JK  Gender-Neutral    NIT-Srinagar   \n",
       "64955  2021            NIT         1    JK     Female-Only    NIT-Srinagar   \n",
       "64956  2021            NIT         1    LA  Gender-Neutral    NIT-Srinagar   \n",
       "64957  2021            NIT         1    LA     Female-Only    NIT-Srinagar   \n",
       "\n",
       "                                    program_name program_duration  \\\n",
       "0                          Aerospace Engineering          4 Years   \n",
       "1                          Aerospace Engineering          4 Years   \n",
       "2                          Aerospace Engineering          4 Years   \n",
       "3                          Aerospace Engineering          4 Years   \n",
       "4                          Aerospace Engineering          4 Years   \n",
       "...                                          ...              ...   \n",
       "64953  Electronics and Communication Engineering          4 Years   \n",
       "64954  Electronics and Communication Engineering          4 Years   \n",
       "64955  Electronics and Communication Engineering          4 Years   \n",
       "64956  Electronics and Communication Engineering          4 Years   \n",
       "64957  Electronics and Communication Engineering          4 Years   \n",
       "\n",
       "      degree_short category  opening_rank  closing_rank  is_preparatory  \\\n",
       "0           B.Tech      GEN           838          1841               0   \n",
       "1           B.Tech  OBC-NCL           408          1098               0   \n",
       "2           B.Tech       SC           297           468               0   \n",
       "3           B.Tech       ST            79           145               0   \n",
       "4           B.Tech  GEN-PWD            94            94               0   \n",
       "...            ...      ...           ...           ...             ...   \n",
       "64953       B.Tech       SC         14185         24048               0   \n",
       "64954       B.Tech       ST          2736          4171               0   \n",
       "64955       B.Tech       ST         10870         10870               0   \n",
       "64956       B.Tech      GEN        166453        265454               0   \n",
       "64957       B.Tech      GEN        215054        215054               0   \n",
       "\n",
       "       Unnamed: 13  \n",
       "0              NaN  \n",
       "1              NaN  \n",
       "2              NaN  \n",
       "3              NaN  \n",
       "4              NaN  \n",
       "...            ...  \n",
       "64953          NaN  \n",
       "64954          NaN  \n",
       "64955          NaN  \n",
       "64956          NaN  \n",
       "64957          NaN  \n",
       "\n",
       "[64958 rows x 14 columns]"
      ]
     },
     "execution_count": 5,
     "metadata": {},
     "output_type": "execute_result"
    }
   ],
   "source": [
    "df"
   ]
  },
  {
   "cell_type": "code",
   "execution_count": 6,
   "id": "98916236-1cb8-4af3-ad10-258401cb9bc7",
   "metadata": {},
   "outputs": [
    {
     "data": {
      "text/html": [
       "<div>\n",
       "<style scoped>\n",
       "    .dataframe tbody tr th:only-of-type {\n",
       "        vertical-align: middle;\n",
       "    }\n",
       "\n",
       "    .dataframe tbody tr th {\n",
       "        vertical-align: top;\n",
       "    }\n",
       "\n",
       "    .dataframe thead th {\n",
       "        text-align: right;\n",
       "    }\n",
       "</style>\n",
       "<table border=\"1\" class=\"dataframe\">\n",
       "  <thead>\n",
       "    <tr style=\"text-align: right;\">\n",
       "      <th></th>\n",
       "      <th>year</th>\n",
       "      <th>institute_type</th>\n",
       "      <th>round_no</th>\n",
       "      <th>quota</th>\n",
       "      <th>pool</th>\n",
       "      <th>institute_short</th>\n",
       "      <th>program_name</th>\n",
       "      <th>program_duration</th>\n",
       "      <th>degree_short</th>\n",
       "      <th>category</th>\n",
       "      <th>opening_rank</th>\n",
       "      <th>closing_rank</th>\n",
       "      <th>is_preparatory</th>\n",
       "      <th>Unnamed: 13</th>\n",
       "    </tr>\n",
       "  </thead>\n",
       "  <tbody>\n",
       "    <tr>\n",
       "      <th>64953</th>\n",
       "      <td>2021</td>\n",
       "      <td>NIT</td>\n",
       "      <td>1</td>\n",
       "      <td>JK</td>\n",
       "      <td>Female-Only</td>\n",
       "      <td>NIT-Srinagar</td>\n",
       "      <td>Electronics and Communication Engineering</td>\n",
       "      <td>4 Years</td>\n",
       "      <td>B.Tech</td>\n",
       "      <td>SC</td>\n",
       "      <td>14185</td>\n",
       "      <td>24048</td>\n",
       "      <td>0</td>\n",
       "      <td>NaN</td>\n",
       "    </tr>\n",
       "    <tr>\n",
       "      <th>64954</th>\n",
       "      <td>2021</td>\n",
       "      <td>NIT</td>\n",
       "      <td>1</td>\n",
       "      <td>JK</td>\n",
       "      <td>Gender-Neutral</td>\n",
       "      <td>NIT-Srinagar</td>\n",
       "      <td>Electronics and Communication Engineering</td>\n",
       "      <td>4 Years</td>\n",
       "      <td>B.Tech</td>\n",
       "      <td>ST</td>\n",
       "      <td>2736</td>\n",
       "      <td>4171</td>\n",
       "      <td>0</td>\n",
       "      <td>NaN</td>\n",
       "    </tr>\n",
       "    <tr>\n",
       "      <th>64955</th>\n",
       "      <td>2021</td>\n",
       "      <td>NIT</td>\n",
       "      <td>1</td>\n",
       "      <td>JK</td>\n",
       "      <td>Female-Only</td>\n",
       "      <td>NIT-Srinagar</td>\n",
       "      <td>Electronics and Communication Engineering</td>\n",
       "      <td>4 Years</td>\n",
       "      <td>B.Tech</td>\n",
       "      <td>ST</td>\n",
       "      <td>10870</td>\n",
       "      <td>10870</td>\n",
       "      <td>0</td>\n",
       "      <td>NaN</td>\n",
       "    </tr>\n",
       "    <tr>\n",
       "      <th>64956</th>\n",
       "      <td>2021</td>\n",
       "      <td>NIT</td>\n",
       "      <td>1</td>\n",
       "      <td>LA</td>\n",
       "      <td>Gender-Neutral</td>\n",
       "      <td>NIT-Srinagar</td>\n",
       "      <td>Electronics and Communication Engineering</td>\n",
       "      <td>4 Years</td>\n",
       "      <td>B.Tech</td>\n",
       "      <td>GEN</td>\n",
       "      <td>166453</td>\n",
       "      <td>265454</td>\n",
       "      <td>0</td>\n",
       "      <td>NaN</td>\n",
       "    </tr>\n",
       "    <tr>\n",
       "      <th>64957</th>\n",
       "      <td>2021</td>\n",
       "      <td>NIT</td>\n",
       "      <td>1</td>\n",
       "      <td>LA</td>\n",
       "      <td>Female-Only</td>\n",
       "      <td>NIT-Srinagar</td>\n",
       "      <td>Electronics and Communication Engineering</td>\n",
       "      <td>4 Years</td>\n",
       "      <td>B.Tech</td>\n",
       "      <td>GEN</td>\n",
       "      <td>215054</td>\n",
       "      <td>215054</td>\n",
       "      <td>0</td>\n",
       "      <td>NaN</td>\n",
       "    </tr>\n",
       "  </tbody>\n",
       "</table>\n",
       "</div>"
      ],
      "text/plain": [
       "       year institute_type  round_no quota            pool institute_short  \\\n",
       "64953  2021            NIT         1    JK     Female-Only    NIT-Srinagar   \n",
       "64954  2021            NIT         1    JK  Gender-Neutral    NIT-Srinagar   \n",
       "64955  2021            NIT         1    JK     Female-Only    NIT-Srinagar   \n",
       "64956  2021            NIT         1    LA  Gender-Neutral    NIT-Srinagar   \n",
       "64957  2021            NIT         1    LA     Female-Only    NIT-Srinagar   \n",
       "\n",
       "                                    program_name program_duration  \\\n",
       "64953  Electronics and Communication Engineering          4 Years   \n",
       "64954  Electronics and Communication Engineering          4 Years   \n",
       "64955  Electronics and Communication Engineering          4 Years   \n",
       "64956  Electronics and Communication Engineering          4 Years   \n",
       "64957  Electronics and Communication Engineering          4 Years   \n",
       "\n",
       "      degree_short category  opening_rank  closing_rank  is_preparatory  \\\n",
       "64953       B.Tech       SC         14185         24048               0   \n",
       "64954       B.Tech       ST          2736          4171               0   \n",
       "64955       B.Tech       ST         10870         10870               0   \n",
       "64956       B.Tech      GEN        166453        265454               0   \n",
       "64957       B.Tech      GEN        215054        215054               0   \n",
       "\n",
       "       Unnamed: 13  \n",
       "64953          NaN  \n",
       "64954          NaN  \n",
       "64955          NaN  \n",
       "64956          NaN  \n",
       "64957          NaN  "
      ]
     },
     "execution_count": 6,
     "metadata": {},
     "output_type": "execute_result"
    }
   ],
   "source": [
    "df.tail()"
   ]
  },
  {
   "cell_type": "code",
   "execution_count": 7,
   "id": "2a7ee0b3-799d-41eb-9135-2ba1eb5d93e0",
   "metadata": {},
   "outputs": [],
   "source": [
    "del df[\"Unnamed: 13\"]"
   ]
  },
  {
   "cell_type": "markdown",
   "id": "c59fe5de-2367-4f7c-8c14-522962a250fb",
   "metadata": {},
   "source": [
    "del df[\"Unnamed: 13\"]"
   ]
  },
  {
   "cell_type": "markdown",
   "id": "b278c792-7b50-4ca7-bd42-685f96e4587b",
   "metadata": {},
   "source": [
    "## **<span style=\"color:#ff3385;\">👀 Exploring the Data</span>**"
   ]
  },
  {
   "cell_type": "code",
   "execution_count": 8,
   "id": "4a11a75d-7f4f-44ae-9dd9-124a7f39af94",
   "metadata": {},
   "outputs": [
    {
     "name": "stdout",
     "output_type": "stream",
     "text": [
      "<class 'pandas.core.frame.DataFrame'>\n",
      "RangeIndex: 64958 entries, 0 to 64957\n",
      "Data columns (total 13 columns):\n",
      " #   Column            Non-Null Count  Dtype \n",
      "---  ------            --------------  ----- \n",
      " 0   year              64958 non-null  int64 \n",
      " 1   institute_type    64958 non-null  object\n",
      " 2   round_no          64958 non-null  int64 \n",
      " 3   quota             64958 non-null  object\n",
      " 4   pool              64958 non-null  object\n",
      " 5   institute_short   64958 non-null  object\n",
      " 6   program_name      64958 non-null  object\n",
      " 7   program_duration  64958 non-null  object\n",
      " 8   degree_short      64958 non-null  object\n",
      " 9   category          64958 non-null  object\n",
      " 10  opening_rank      64958 non-null  int64 \n",
      " 11  closing_rank      64958 non-null  int64 \n",
      " 12  is_preparatory    64958 non-null  int64 \n",
      "dtypes: int64(5), object(8)\n",
      "memory usage: 6.4+ MB\n"
     ]
    }
   ],
   "source": [
    "df.info()"
   ]
  },
  {
   "cell_type": "code",
   "execution_count": 9,
   "id": "8da0fc3a-2201-4950-a083-d80afe75615b",
   "metadata": {},
   "outputs": [
    {
     "data": {
      "text/html": [
       "<div>\n",
       "<style scoped>\n",
       "    .dataframe tbody tr th:only-of-type {\n",
       "        vertical-align: middle;\n",
       "    }\n",
       "\n",
       "    .dataframe tbody tr th {\n",
       "        vertical-align: top;\n",
       "    }\n",
       "\n",
       "    .dataframe thead th {\n",
       "        text-align: right;\n",
       "    }\n",
       "</style>\n",
       "<table border=\"1\" class=\"dataframe\">\n",
       "  <thead>\n",
       "    <tr style=\"text-align: right;\">\n",
       "      <th></th>\n",
       "      <th>year</th>\n",
       "      <th>round_no</th>\n",
       "      <th>opening_rank</th>\n",
       "      <th>closing_rank</th>\n",
       "      <th>is_preparatory</th>\n",
       "    </tr>\n",
       "  </thead>\n",
       "  <tbody>\n",
       "    <tr>\n",
       "      <th>count</th>\n",
       "      <td>64958.000000</td>\n",
       "      <td>64958.000000</td>\n",
       "      <td>6.495800e+04</td>\n",
       "      <td>6.495800e+04</td>\n",
       "      <td>64958.000000</td>\n",
       "    </tr>\n",
       "    <tr>\n",
       "      <th>mean</th>\n",
       "      <td>2020.421580</td>\n",
       "      <td>2.609348</td>\n",
       "      <td>8.259642e+03</td>\n",
       "      <td>1.070497e+04</td>\n",
       "      <td>0.047631</td>\n",
       "    </tr>\n",
       "    <tr>\n",
       "      <th>std</th>\n",
       "      <td>1.149762</td>\n",
       "      <td>2.422558</td>\n",
       "      <td>2.679448e+04</td>\n",
       "      <td>3.788101e+04</td>\n",
       "      <td>0.212985</td>\n",
       "    </tr>\n",
       "    <tr>\n",
       "      <th>min</th>\n",
       "      <td>2016.000000</td>\n",
       "      <td>1.000000</td>\n",
       "      <td>0.000000e+00</td>\n",
       "      <td>0.000000e+00</td>\n",
       "      <td>0.000000</td>\n",
       "    </tr>\n",
       "    <tr>\n",
       "      <th>25%</th>\n",
       "      <td>2020.000000</td>\n",
       "      <td>1.000000</td>\n",
       "      <td>6.710000e+02</td>\n",
       "      <td>8.320000e+02</td>\n",
       "      <td>0.000000</td>\n",
       "    </tr>\n",
       "    <tr>\n",
       "      <th>50%</th>\n",
       "      <td>2021.000000</td>\n",
       "      <td>1.000000</td>\n",
       "      <td>2.309000e+03</td>\n",
       "      <td>2.764500e+03</td>\n",
       "      <td>0.000000</td>\n",
       "    </tr>\n",
       "    <tr>\n",
       "      <th>75%</th>\n",
       "      <td>2021.000000</td>\n",
       "      <td>6.000000</td>\n",
       "      <td>6.932000e+03</td>\n",
       "      <td>8.190000e+03</td>\n",
       "      <td>0.000000</td>\n",
       "    </tr>\n",
       "    <tr>\n",
       "      <th>max</th>\n",
       "      <td>2021.000000</td>\n",
       "      <td>7.000000</td>\n",
       "      <td>1.082601e+06</td>\n",
       "      <td>1.144790e+06</td>\n",
       "      <td>1.000000</td>\n",
       "    </tr>\n",
       "  </tbody>\n",
       "</table>\n",
       "</div>"
      ],
      "text/plain": [
       "               year      round_no  opening_rank  closing_rank  is_preparatory\n",
       "count  64958.000000  64958.000000  6.495800e+04  6.495800e+04    64958.000000\n",
       "mean    2020.421580      2.609348  8.259642e+03  1.070497e+04        0.047631\n",
       "std        1.149762      2.422558  2.679448e+04  3.788101e+04        0.212985\n",
       "min     2016.000000      1.000000  0.000000e+00  0.000000e+00        0.000000\n",
       "25%     2020.000000      1.000000  6.710000e+02  8.320000e+02        0.000000\n",
       "50%     2021.000000      1.000000  2.309000e+03  2.764500e+03        0.000000\n",
       "75%     2021.000000      6.000000  6.932000e+03  8.190000e+03        0.000000\n",
       "max     2021.000000      7.000000  1.082601e+06  1.144790e+06        1.000000"
      ]
     },
     "execution_count": 9,
     "metadata": {},
     "output_type": "execute_result"
    }
   ],
   "source": [
    "df.describe()"
   ]
  },
  {
   "cell_type": "code",
   "execution_count": 10,
   "id": "981cd035-099e-4156-b4e3-e66ebd1c84ee",
   "metadata": {},
   "outputs": [
    {
     "data": {
      "text/plain": [
       "(64958, 13)"
      ]
     },
     "execution_count": 10,
     "metadata": {},
     "output_type": "execute_result"
    }
   ],
   "source": [
    "df.shape"
   ]
  },
  {
   "cell_type": "code",
   "execution_count": 11,
   "id": "d797c414-c1a6-4c14-a15d-48e88255f870",
   "metadata": {},
   "outputs": [
    {
     "data": {
      "text/html": [
       "<div>\n",
       "<style scoped>\n",
       "    .dataframe tbody tr th:only-of-type {\n",
       "        vertical-align: middle;\n",
       "    }\n",
       "\n",
       "    .dataframe tbody tr th {\n",
       "        vertical-align: top;\n",
       "    }\n",
       "\n",
       "    .dataframe thead th {\n",
       "        text-align: right;\n",
       "    }\n",
       "</style>\n",
       "<table border=\"1\" class=\"dataframe\">\n",
       "  <thead>\n",
       "    <tr style=\"text-align: right;\">\n",
       "      <th></th>\n",
       "      <th>0</th>\n",
       "    </tr>\n",
       "  </thead>\n",
       "  <tbody>\n",
       "    <tr>\n",
       "      <th>0</th>\n",
       "      <td>year</td>\n",
       "    </tr>\n",
       "    <tr>\n",
       "      <th>1</th>\n",
       "      <td>institute_type</td>\n",
       "    </tr>\n",
       "    <tr>\n",
       "      <th>2</th>\n",
       "      <td>round_no</td>\n",
       "    </tr>\n",
       "    <tr>\n",
       "      <th>3</th>\n",
       "      <td>quota</td>\n",
       "    </tr>\n",
       "    <tr>\n",
       "      <th>4</th>\n",
       "      <td>pool</td>\n",
       "    </tr>\n",
       "    <tr>\n",
       "      <th>5</th>\n",
       "      <td>institute_short</td>\n",
       "    </tr>\n",
       "    <tr>\n",
       "      <th>6</th>\n",
       "      <td>program_name</td>\n",
       "    </tr>\n",
       "    <tr>\n",
       "      <th>7</th>\n",
       "      <td>program_duration</td>\n",
       "    </tr>\n",
       "    <tr>\n",
       "      <th>8</th>\n",
       "      <td>degree_short</td>\n",
       "    </tr>\n",
       "    <tr>\n",
       "      <th>9</th>\n",
       "      <td>category</td>\n",
       "    </tr>\n",
       "    <tr>\n",
       "      <th>10</th>\n",
       "      <td>opening_rank</td>\n",
       "    </tr>\n",
       "    <tr>\n",
       "      <th>11</th>\n",
       "      <td>closing_rank</td>\n",
       "    </tr>\n",
       "    <tr>\n",
       "      <th>12</th>\n",
       "      <td>is_preparatory</td>\n",
       "    </tr>\n",
       "  </tbody>\n",
       "</table>\n",
       "</div>"
      ],
      "text/plain": [
       "                   0\n",
       "0               year\n",
       "1     institute_type\n",
       "2           round_no\n",
       "3              quota\n",
       "4               pool\n",
       "5    institute_short\n",
       "6       program_name\n",
       "7   program_duration\n",
       "8       degree_short\n",
       "9           category\n",
       "10      opening_rank\n",
       "11      closing_rank\n",
       "12    is_preparatory"
      ]
     },
     "execution_count": 11,
     "metadata": {},
     "output_type": "execute_result"
    }
   ],
   "source": [
    "\n",
    "Columns = pd.DataFrame(df.columns)\n",
    "Columns"
   ]
  },
  {
   "cell_type": "code",
   "execution_count": 12,
   "id": "b9998e5a-3b30-4812-8f2e-5386d92499c7",
   "metadata": {},
   "outputs": [
    {
     "data": {
      "text/html": [
       "<div>\n",
       "<style scoped>\n",
       "    .dataframe tbody tr th:only-of-type {\n",
       "        vertical-align: middle;\n",
       "    }\n",
       "\n",
       "    .dataframe tbody tr th {\n",
       "        vertical-align: top;\n",
       "    }\n",
       "\n",
       "    .dataframe thead th {\n",
       "        text-align: right;\n",
       "    }\n",
       "</style>\n",
       "<table border=\"1\" class=\"dataframe\">\n",
       "  <thead>\n",
       "    <tr style=\"text-align: right;\">\n",
       "      <th></th>\n",
       "      <th>0</th>\n",
       "    </tr>\n",
       "  </thead>\n",
       "  <tbody>\n",
       "    <tr>\n",
       "      <th>0</th>\n",
       "      <td>AI</td>\n",
       "    </tr>\n",
       "    <tr>\n",
       "      <th>1</th>\n",
       "      <td>HS</td>\n",
       "    </tr>\n",
       "    <tr>\n",
       "      <th>2</th>\n",
       "      <td>OS</td>\n",
       "    </tr>\n",
       "    <tr>\n",
       "      <th>3</th>\n",
       "      <td>AP</td>\n",
       "    </tr>\n",
       "    <tr>\n",
       "      <th>4</th>\n",
       "      <td>GO</td>\n",
       "    </tr>\n",
       "    <tr>\n",
       "      <th>5</th>\n",
       "      <td>JK</td>\n",
       "    </tr>\n",
       "    <tr>\n",
       "      <th>6</th>\n",
       "      <td>LA</td>\n",
       "    </tr>\n",
       "  </tbody>\n",
       "</table>\n",
       "</div>"
      ],
      "text/plain": [
       "    0\n",
       "0  AI\n",
       "1  HS\n",
       "2  OS\n",
       "3  AP\n",
       "4  GO\n",
       "5  JK\n",
       "6  LA"
      ]
     },
     "execution_count": 12,
     "metadata": {},
     "output_type": "execute_result"
    }
   ],
   "source": [
    "# Unique values in quota\n",
    "\n",
    "Quota = pd.DataFrame(df[\"quota\"].unique())\n",
    "Quota"
   ]
  },
  {
   "cell_type": "code",
   "execution_count": 13,
   "id": "449283bd-fe35-4e42-9959-c2b0f45c739d",
   "metadata": {},
   "outputs": [
    {
     "data": {
      "text/html": [
       "<div>\n",
       "<style scoped>\n",
       "    .dataframe tbody tr th:only-of-type {\n",
       "        vertical-align: middle;\n",
       "    }\n",
       "\n",
       "    .dataframe tbody tr th {\n",
       "        vertical-align: top;\n",
       "    }\n",
       "\n",
       "    .dataframe thead th {\n",
       "        text-align: right;\n",
       "    }\n",
       "</style>\n",
       "<table border=\"1\" class=\"dataframe\">\n",
       "  <thead>\n",
       "    <tr style=\"text-align: right;\">\n",
       "      <th></th>\n",
       "      <th>0</th>\n",
       "    </tr>\n",
       "  </thead>\n",
       "  <tbody>\n",
       "    <tr>\n",
       "      <th>0</th>\n",
       "      <td>Gender-Neutral</td>\n",
       "    </tr>\n",
       "    <tr>\n",
       "      <th>1</th>\n",
       "      <td>Female-Only</td>\n",
       "    </tr>\n",
       "  </tbody>\n",
       "</table>\n",
       "</div>"
      ],
      "text/plain": [
       "                0\n",
       "0  Gender-Neutral\n",
       "1     Female-Only"
      ]
     },
     "execution_count": 13,
     "metadata": {},
     "output_type": "execute_result"
    }
   ],
   "source": [
    "# Unique values in pool\n",
    "\n",
    "Pool = pd.DataFrame(df[\"pool\"].unique())\n",
    "Pool"
   ]
  },
  {
   "cell_type": "code",
   "execution_count": null,
   "id": "c77cc376-0457-4b5f-95ba-945e4939fe49",
   "metadata": {},
   "outputs": [],
   "source": []
  },
  {
   "cell_type": "code",
   "execution_count": 14,
   "id": "6c61312f-f6f5-42b5-b49d-5af27eb7ce73",
   "metadata": {},
   "outputs": [
    {
     "data": {
      "text/html": [
       "<div>\n",
       "<style scoped>\n",
       "    .dataframe tbody tr th:only-of-type {\n",
       "        vertical-align: middle;\n",
       "    }\n",
       "\n",
       "    .dataframe tbody tr th {\n",
       "        vertical-align: top;\n",
       "    }\n",
       "\n",
       "    .dataframe thead th {\n",
       "        text-align: right;\n",
       "    }\n",
       "</style>\n",
       "<table border=\"1\" class=\"dataframe\">\n",
       "  <thead>\n",
       "    <tr style=\"text-align: right;\">\n",
       "      <th></th>\n",
       "      <th>Institute</th>\n",
       "    </tr>\n",
       "  </thead>\n",
       "  <tbody>\n",
       "    <tr>\n",
       "      <th>0</th>\n",
       "      <td>IIT-Bombay</td>\n",
       "    </tr>\n",
       "    <tr>\n",
       "      <th>1</th>\n",
       "      <td>IIT-Delhi</td>\n",
       "    </tr>\n",
       "    <tr>\n",
       "      <th>2</th>\n",
       "      <td>IIT-Kharagpur</td>\n",
       "    </tr>\n",
       "    <tr>\n",
       "      <th>3</th>\n",
       "      <td>IIT-Kanpur</td>\n",
       "    </tr>\n",
       "    <tr>\n",
       "      <th>4</th>\n",
       "      <td>IIT-Madras</td>\n",
       "    </tr>\n",
       "    <tr>\n",
       "      <th>5</th>\n",
       "      <td>IIT-Roorkee</td>\n",
       "    </tr>\n",
       "    <tr>\n",
       "      <th>6</th>\n",
       "      <td>IIT-Guwahati</td>\n",
       "    </tr>\n",
       "    <tr>\n",
       "      <th>7</th>\n",
       "      <td>IIT-Indore</td>\n",
       "    </tr>\n",
       "    <tr>\n",
       "      <th>8</th>\n",
       "      <td>IIT-Hyderabad</td>\n",
       "    </tr>\n",
       "    <tr>\n",
       "      <th>9</th>\n",
       "      <td>IIT-(BHU) Varanasi</td>\n",
       "    </tr>\n",
       "    <tr>\n",
       "      <th>10</th>\n",
       "      <td>IIT-Patna</td>\n",
       "    </tr>\n",
       "    <tr>\n",
       "      <th>11</th>\n",
       "      <td>IIT-(ISM) Dhanbad</td>\n",
       "    </tr>\n",
       "    <tr>\n",
       "      <th>12</th>\n",
       "      <td>IIT-Bhubaneswar</td>\n",
       "    </tr>\n",
       "    <tr>\n",
       "      <th>13</th>\n",
       "      <td>IIT-Mandi</td>\n",
       "    </tr>\n",
       "    <tr>\n",
       "      <th>14</th>\n",
       "      <td>IIT-Gandhinagar</td>\n",
       "    </tr>\n",
       "    <tr>\n",
       "      <th>15</th>\n",
       "      <td>IIT-Ropar</td>\n",
       "    </tr>\n",
       "    <tr>\n",
       "      <th>16</th>\n",
       "      <td>IIT-Jodhpur</td>\n",
       "    </tr>\n",
       "    <tr>\n",
       "      <th>17</th>\n",
       "      <td>IIT-Tirupati</td>\n",
       "    </tr>\n",
       "    <tr>\n",
       "      <th>18</th>\n",
       "      <td>IIT-Bhilai</td>\n",
       "    </tr>\n",
       "    <tr>\n",
       "      <th>19</th>\n",
       "      <td>IIT-Dharwad</td>\n",
       "    </tr>\n",
       "    <tr>\n",
       "      <th>20</th>\n",
       "      <td>IIT-Goa</td>\n",
       "    </tr>\n",
       "    <tr>\n",
       "      <th>21</th>\n",
       "      <td>IIT-Jammu</td>\n",
       "    </tr>\n",
       "    <tr>\n",
       "      <th>22</th>\n",
       "      <td>IIT-Palakkad</td>\n",
       "    </tr>\n",
       "    <tr>\n",
       "      <th>23</th>\n",
       "      <td>NIT-Warangal</td>\n",
       "    </tr>\n",
       "    <tr>\n",
       "      <th>24</th>\n",
       "      <td>NIT-Tiruchirappalli</td>\n",
       "    </tr>\n",
       "    <tr>\n",
       "      <th>25</th>\n",
       "      <td>NIT-Uttarakhand</td>\n",
       "    </tr>\n",
       "    <tr>\n",
       "      <th>26</th>\n",
       "      <td>NIT-Surat</td>\n",
       "    </tr>\n",
       "    <tr>\n",
       "      <th>27</th>\n",
       "      <td>NIT-Nagpur</td>\n",
       "    </tr>\n",
       "    <tr>\n",
       "      <th>28</th>\n",
       "      <td>NIT-Andhra-Pradesh</td>\n",
       "    </tr>\n",
       "    <tr>\n",
       "      <th>29</th>\n",
       "      <td>NIT-Jalandhar</td>\n",
       "    </tr>\n",
       "    <tr>\n",
       "      <th>30</th>\n",
       "      <td>NIT-Jaipur</td>\n",
       "    </tr>\n",
       "    <tr>\n",
       "      <th>31</th>\n",
       "      <td>NIT-Bhopal</td>\n",
       "    </tr>\n",
       "    <tr>\n",
       "      <th>32</th>\n",
       "      <td>NIT-Allahabad</td>\n",
       "    </tr>\n",
       "    <tr>\n",
       "      <th>33</th>\n",
       "      <td>NIT-Calicut</td>\n",
       "    </tr>\n",
       "    <tr>\n",
       "      <th>34</th>\n",
       "      <td>NIT-Agartala</td>\n",
       "    </tr>\n",
       "    <tr>\n",
       "      <th>35</th>\n",
       "      <td>NIT-Delhi</td>\n",
       "    </tr>\n",
       "    <tr>\n",
       "      <th>36</th>\n",
       "      <td>NIT-Durgapur</td>\n",
       "    </tr>\n",
       "    <tr>\n",
       "      <th>37</th>\n",
       "      <td>NIT-Goa</td>\n",
       "    </tr>\n",
       "    <tr>\n",
       "      <th>38</th>\n",
       "      <td>NIT-Hamirpur</td>\n",
       "    </tr>\n",
       "    <tr>\n",
       "      <th>39</th>\n",
       "      <td>NIT-Meghalaya</td>\n",
       "    </tr>\n",
       "    <tr>\n",
       "      <th>40</th>\n",
       "      <td>NIT-Karnataka-Surathkal</td>\n",
       "    </tr>\n",
       "    <tr>\n",
       "      <th>41</th>\n",
       "      <td>NIT-Patna</td>\n",
       "    </tr>\n",
       "    <tr>\n",
       "      <th>42</th>\n",
       "      <td>NIT-Nagaland</td>\n",
       "    </tr>\n",
       "    <tr>\n",
       "      <th>43</th>\n",
       "      <td>NIT-Puducherry</td>\n",
       "    </tr>\n",
       "    <tr>\n",
       "      <th>44</th>\n",
       "      <td>NIT-Raipur</td>\n",
       "    </tr>\n",
       "    <tr>\n",
       "      <th>45</th>\n",
       "      <td>NIT-Sikkim</td>\n",
       "    </tr>\n",
       "    <tr>\n",
       "      <th>46</th>\n",
       "      <td>NIT-Arunachal-Pradesh</td>\n",
       "    </tr>\n",
       "    <tr>\n",
       "      <th>47</th>\n",
       "      <td>NIT-Jamshedpur</td>\n",
       "    </tr>\n",
       "    <tr>\n",
       "      <th>48</th>\n",
       "      <td>NIT-Kurukshetra</td>\n",
       "    </tr>\n",
       "    <tr>\n",
       "      <th>49</th>\n",
       "      <td>NIT-Manipur</td>\n",
       "    </tr>\n",
       "    <tr>\n",
       "      <th>50</th>\n",
       "      <td>NIT-Mizoram</td>\n",
       "    </tr>\n",
       "    <tr>\n",
       "      <th>51</th>\n",
       "      <td>NIT-Rourkela</td>\n",
       "    </tr>\n",
       "    <tr>\n",
       "      <th>52</th>\n",
       "      <td>NIT-Silchar</td>\n",
       "    </tr>\n",
       "    <tr>\n",
       "      <th>53</th>\n",
       "      <td>NIT-Srinagar</td>\n",
       "    </tr>\n",
       "  </tbody>\n",
       "</table>\n",
       "</div>"
      ],
      "text/plain": [
       "                  Institute\n",
       "0                IIT-Bombay\n",
       "1                 IIT-Delhi\n",
       "2             IIT-Kharagpur\n",
       "3                IIT-Kanpur\n",
       "4                IIT-Madras\n",
       "5               IIT-Roorkee\n",
       "6              IIT-Guwahati\n",
       "7                IIT-Indore\n",
       "8             IIT-Hyderabad\n",
       "9        IIT-(BHU) Varanasi\n",
       "10                IIT-Patna\n",
       "11        IIT-(ISM) Dhanbad\n",
       "12          IIT-Bhubaneswar\n",
       "13                IIT-Mandi\n",
       "14          IIT-Gandhinagar\n",
       "15                IIT-Ropar\n",
       "16              IIT-Jodhpur\n",
       "17             IIT-Tirupati\n",
       "18               IIT-Bhilai\n",
       "19              IIT-Dharwad\n",
       "20                  IIT-Goa\n",
       "21                IIT-Jammu\n",
       "22             IIT-Palakkad\n",
       "23             NIT-Warangal\n",
       "24      NIT-Tiruchirappalli\n",
       "25          NIT-Uttarakhand\n",
       "26                NIT-Surat\n",
       "27               NIT-Nagpur\n",
       "28       NIT-Andhra-Pradesh\n",
       "29            NIT-Jalandhar\n",
       "30               NIT-Jaipur\n",
       "31               NIT-Bhopal\n",
       "32            NIT-Allahabad\n",
       "33              NIT-Calicut\n",
       "34             NIT-Agartala\n",
       "35                NIT-Delhi\n",
       "36             NIT-Durgapur\n",
       "37                  NIT-Goa\n",
       "38             NIT-Hamirpur\n",
       "39            NIT-Meghalaya\n",
       "40  NIT-Karnataka-Surathkal\n",
       "41                NIT-Patna\n",
       "42             NIT-Nagaland\n",
       "43           NIT-Puducherry\n",
       "44               NIT-Raipur\n",
       "45               NIT-Sikkim\n",
       "46    NIT-Arunachal-Pradesh\n",
       "47           NIT-Jamshedpur\n",
       "48          NIT-Kurukshetra\n",
       "49              NIT-Manipur\n",
       "50              NIT-Mizoram\n",
       "51             NIT-Rourkela\n",
       "52              NIT-Silchar\n",
       "53             NIT-Srinagar"
      ]
     },
     "execution_count": 14,
     "metadata": {},
     "output_type": "execute_result"
    }
   ],
   "source": [
    "# Various institutions \n",
    "\n",
    "Institutes = pd.DataFrame(df[\"institute_short\"].unique(), columns = {'Institute':0})\n",
    "Institutes "
   ]
  },
  {
   "cell_type": "code",
   "execution_count": 15,
   "id": "ebaeef44-c98d-41bb-83e8-3000a7ccb6bf",
   "metadata": {},
   "outputs": [
    {
     "data": {
      "text/html": [
       "<div>\n",
       "<style scoped>\n",
       "    .dataframe tbody tr th:only-of-type {\n",
       "        vertical-align: middle;\n",
       "    }\n",
       "\n",
       "    .dataframe tbody tr th {\n",
       "        vertical-align: top;\n",
       "    }\n",
       "\n",
       "    .dataframe thead th {\n",
       "        text-align: right;\n",
       "    }\n",
       "</style>\n",
       "<table border=\"1\" class=\"dataframe\">\n",
       "  <thead>\n",
       "    <tr style=\"text-align: right;\">\n",
       "      <th></th>\n",
       "      <th>program</th>\n",
       "    </tr>\n",
       "  </thead>\n",
       "  <tbody>\n",
       "    <tr>\n",
       "      <th>0</th>\n",
       "      <td>Aerospace Engineering</td>\n",
       "    </tr>\n",
       "    <tr>\n",
       "      <th>1</th>\n",
       "      <td>Chemical Engineering</td>\n",
       "    </tr>\n",
       "    <tr>\n",
       "      <th>2</th>\n",
       "      <td>Chemistry</td>\n",
       "    </tr>\n",
       "    <tr>\n",
       "      <th>3</th>\n",
       "      <td>Civil Engineering</td>\n",
       "    </tr>\n",
       "    <tr>\n",
       "      <th>4</th>\n",
       "      <td>Computer Science and Engineering</td>\n",
       "    </tr>\n",
       "    <tr>\n",
       "      <th>...</th>\n",
       "      <td>...</td>\n",
       "    </tr>\n",
       "    <tr>\n",
       "      <th>125</th>\n",
       "      <td>Food Process Engineering</td>\n",
       "    </tr>\n",
       "    <tr>\n",
       "      <th>126</th>\n",
       "      <td>Ceramic Engineering and M.Tech Industrial Ceramic</td>\n",
       "    </tr>\n",
       "    <tr>\n",
       "      <th>127</th>\n",
       "      <td>Life Science</td>\n",
       "    </tr>\n",
       "    <tr>\n",
       "      <th>128</th>\n",
       "      <td>Mathematics and Data Science</td>\n",
       "    </tr>\n",
       "    <tr>\n",
       "      <th>129</th>\n",
       "      <td>Computational Mathematics</td>\n",
       "    </tr>\n",
       "  </tbody>\n",
       "</table>\n",
       "<p>130 rows × 1 columns</p>\n",
       "</div>"
      ],
      "text/plain": [
       "                                               program\n",
       "0                                Aerospace Engineering\n",
       "1                                 Chemical Engineering\n",
       "2                                            Chemistry\n",
       "3                                    Civil Engineering\n",
       "4                     Computer Science and Engineering\n",
       "..                                                 ...\n",
       "125                           Food Process Engineering\n",
       "126  Ceramic Engineering and M.Tech Industrial Ceramic\n",
       "127                                       Life Science\n",
       "128                       Mathematics and Data Science\n",
       "129                          Computational Mathematics\n",
       "\n",
       "[130 rows x 1 columns]"
      ]
     },
     "execution_count": 15,
     "metadata": {},
     "output_type": "execute_result"
    }
   ],
   "source": [
    "# Various types of programs\n",
    "\n",
    "Programs = pd.DataFrame(df[\"program_name\"].unique(), columns = {'program':0})\n",
    "Programs"
   ]
  },
  {
   "cell_type": "code",
   "execution_count": 17,
   "id": "9578bb41-f4e1-4a48-9fd2-55a2bcfb00f3",
   "metadata": {},
   "outputs": [],
   "source": [
    "\n",
    "#Degree = df.drop(columns=[\"B.Pharm\", \"B.Pharm + M.Pharm\", \"BSc + MSc (IDD)\"])\n"
   ]
  },
  {
   "cell_type": "code",
   "execution_count": 18,
   "id": "fb22811d-21ec-46f0-a90f-24682721b934",
   "metadata": {},
   "outputs": [],
   "source": [
    "df = df[df[\"degree_short\"].isin([\"B.Pharm\", \"B.Pharm + M.Pharm\", \"BSc + MSc (IDD)\"]) == False]\n"
   ]
  },
  {
   "cell_type": "code",
   "execution_count": 19,
   "id": "06983a6a-e3c3-4a55-812d-20b5f77d01b6",
   "metadata": {},
   "outputs": [],
   "source": [
    "df = df.drop(index=[\"B.Pharm\", \"B.Pharm + M.Pharm\", \"BSc + MSc (IDD)\"], errors=\"ignore\")\n"
   ]
  },
  {
   "cell_type": "code",
   "execution_count": null,
   "id": "23dd414e-8c61-47e5-8535-cad992c216ba",
   "metadata": {},
   "outputs": [],
   "source": []
  },
  {
   "cell_type": "code",
   "execution_count": 20,
   "id": "27cfa41c-aedb-4477-8acb-92264be43339",
   "metadata": {},
   "outputs": [],
   "source": [
    "#Degree=df.drop(columns=[\"B.Pharm\",\"B.Pharm + M.Pharm\",\"BSc + MSc (IDD)\"])"
   ]
  },
  {
   "cell_type": "code",
   "execution_count": 21,
   "id": "823fbaa9-8428-4c0b-9726-cc82988d4dc9",
   "metadata": {},
   "outputs": [
    {
     "data": {
      "text/html": [
       "<div>\n",
       "<style scoped>\n",
       "    .dataframe tbody tr th:only-of-type {\n",
       "        vertical-align: middle;\n",
       "    }\n",
       "\n",
       "    .dataframe tbody tr th {\n",
       "        vertical-align: top;\n",
       "    }\n",
       "\n",
       "    .dataframe thead th {\n",
       "        text-align: right;\n",
       "    }\n",
       "</style>\n",
       "<table border=\"1\" class=\"dataframe\">\n",
       "  <thead>\n",
       "    <tr style=\"text-align: right;\">\n",
       "      <th></th>\n",
       "      <th>year</th>\n",
       "      <th>institute_type</th>\n",
       "      <th>round_no</th>\n",
       "      <th>quota</th>\n",
       "      <th>pool</th>\n",
       "      <th>institute_short</th>\n",
       "      <th>program_name</th>\n",
       "      <th>program_duration</th>\n",
       "      <th>degree_short</th>\n",
       "      <th>category</th>\n",
       "      <th>opening_rank</th>\n",
       "      <th>closing_rank</th>\n",
       "      <th>is_preparatory</th>\n",
       "    </tr>\n",
       "  </thead>\n",
       "  <tbody>\n",
       "    <tr>\n",
       "      <th>0</th>\n",
       "      <td>2016</td>\n",
       "      <td>IIT</td>\n",
       "      <td>6</td>\n",
       "      <td>AI</td>\n",
       "      <td>Gender-Neutral</td>\n",
       "      <td>IIT-Bombay</td>\n",
       "      <td>Aerospace Engineering</td>\n",
       "      <td>4 Years</td>\n",
       "      <td>B.Tech</td>\n",
       "      <td>GEN</td>\n",
       "      <td>838</td>\n",
       "      <td>1841</td>\n",
       "      <td>0</td>\n",
       "    </tr>\n",
       "    <tr>\n",
       "      <th>1</th>\n",
       "      <td>2016</td>\n",
       "      <td>IIT</td>\n",
       "      <td>6</td>\n",
       "      <td>AI</td>\n",
       "      <td>Gender-Neutral</td>\n",
       "      <td>IIT-Bombay</td>\n",
       "      <td>Aerospace Engineering</td>\n",
       "      <td>4 Years</td>\n",
       "      <td>B.Tech</td>\n",
       "      <td>OBC-NCL</td>\n",
       "      <td>408</td>\n",
       "      <td>1098</td>\n",
       "      <td>0</td>\n",
       "    </tr>\n",
       "    <tr>\n",
       "      <th>2</th>\n",
       "      <td>2016</td>\n",
       "      <td>IIT</td>\n",
       "      <td>6</td>\n",
       "      <td>AI</td>\n",
       "      <td>Gender-Neutral</td>\n",
       "      <td>IIT-Bombay</td>\n",
       "      <td>Aerospace Engineering</td>\n",
       "      <td>4 Years</td>\n",
       "      <td>B.Tech</td>\n",
       "      <td>SC</td>\n",
       "      <td>297</td>\n",
       "      <td>468</td>\n",
       "      <td>0</td>\n",
       "    </tr>\n",
       "    <tr>\n",
       "      <th>3</th>\n",
       "      <td>2016</td>\n",
       "      <td>IIT</td>\n",
       "      <td>6</td>\n",
       "      <td>AI</td>\n",
       "      <td>Gender-Neutral</td>\n",
       "      <td>IIT-Bombay</td>\n",
       "      <td>Aerospace Engineering</td>\n",
       "      <td>4 Years</td>\n",
       "      <td>B.Tech</td>\n",
       "      <td>ST</td>\n",
       "      <td>79</td>\n",
       "      <td>145</td>\n",
       "      <td>0</td>\n",
       "    </tr>\n",
       "    <tr>\n",
       "      <th>4</th>\n",
       "      <td>2016</td>\n",
       "      <td>IIT</td>\n",
       "      <td>6</td>\n",
       "      <td>AI</td>\n",
       "      <td>Gender-Neutral</td>\n",
       "      <td>IIT-Bombay</td>\n",
       "      <td>Aerospace Engineering</td>\n",
       "      <td>4 Years</td>\n",
       "      <td>B.Tech</td>\n",
       "      <td>GEN-PWD</td>\n",
       "      <td>94</td>\n",
       "      <td>94</td>\n",
       "      <td>0</td>\n",
       "    </tr>\n",
       "    <tr>\n",
       "      <th>...</th>\n",
       "      <td>...</td>\n",
       "      <td>...</td>\n",
       "      <td>...</td>\n",
       "      <td>...</td>\n",
       "      <td>...</td>\n",
       "      <td>...</td>\n",
       "      <td>...</td>\n",
       "      <td>...</td>\n",
       "      <td>...</td>\n",
       "      <td>...</td>\n",
       "      <td>...</td>\n",
       "      <td>...</td>\n",
       "      <td>...</td>\n",
       "    </tr>\n",
       "    <tr>\n",
       "      <th>64953</th>\n",
       "      <td>2021</td>\n",
       "      <td>NIT</td>\n",
       "      <td>1</td>\n",
       "      <td>JK</td>\n",
       "      <td>Female-Only</td>\n",
       "      <td>NIT-Srinagar</td>\n",
       "      <td>Electronics and Communication Engineering</td>\n",
       "      <td>4 Years</td>\n",
       "      <td>B.Tech</td>\n",
       "      <td>SC</td>\n",
       "      <td>14185</td>\n",
       "      <td>24048</td>\n",
       "      <td>0</td>\n",
       "    </tr>\n",
       "    <tr>\n",
       "      <th>64954</th>\n",
       "      <td>2021</td>\n",
       "      <td>NIT</td>\n",
       "      <td>1</td>\n",
       "      <td>JK</td>\n",
       "      <td>Gender-Neutral</td>\n",
       "      <td>NIT-Srinagar</td>\n",
       "      <td>Electronics and Communication Engineering</td>\n",
       "      <td>4 Years</td>\n",
       "      <td>B.Tech</td>\n",
       "      <td>ST</td>\n",
       "      <td>2736</td>\n",
       "      <td>4171</td>\n",
       "      <td>0</td>\n",
       "    </tr>\n",
       "    <tr>\n",
       "      <th>64955</th>\n",
       "      <td>2021</td>\n",
       "      <td>NIT</td>\n",
       "      <td>1</td>\n",
       "      <td>JK</td>\n",
       "      <td>Female-Only</td>\n",
       "      <td>NIT-Srinagar</td>\n",
       "      <td>Electronics and Communication Engineering</td>\n",
       "      <td>4 Years</td>\n",
       "      <td>B.Tech</td>\n",
       "      <td>ST</td>\n",
       "      <td>10870</td>\n",
       "      <td>10870</td>\n",
       "      <td>0</td>\n",
       "    </tr>\n",
       "    <tr>\n",
       "      <th>64956</th>\n",
       "      <td>2021</td>\n",
       "      <td>NIT</td>\n",
       "      <td>1</td>\n",
       "      <td>LA</td>\n",
       "      <td>Gender-Neutral</td>\n",
       "      <td>NIT-Srinagar</td>\n",
       "      <td>Electronics and Communication Engineering</td>\n",
       "      <td>4 Years</td>\n",
       "      <td>B.Tech</td>\n",
       "      <td>GEN</td>\n",
       "      <td>166453</td>\n",
       "      <td>265454</td>\n",
       "      <td>0</td>\n",
       "    </tr>\n",
       "    <tr>\n",
       "      <th>64957</th>\n",
       "      <td>2021</td>\n",
       "      <td>NIT</td>\n",
       "      <td>1</td>\n",
       "      <td>LA</td>\n",
       "      <td>Female-Only</td>\n",
       "      <td>NIT-Srinagar</td>\n",
       "      <td>Electronics and Communication Engineering</td>\n",
       "      <td>4 Years</td>\n",
       "      <td>B.Tech</td>\n",
       "      <td>GEN</td>\n",
       "      <td>215054</td>\n",
       "      <td>215054</td>\n",
       "      <td>0</td>\n",
       "    </tr>\n",
       "  </tbody>\n",
       "</table>\n",
       "<p>64746 rows × 13 columns</p>\n",
       "</div>"
      ],
      "text/plain": [
       "       year institute_type  round_no quota            pool institute_short  \\\n",
       "0      2016            IIT         6    AI  Gender-Neutral      IIT-Bombay   \n",
       "1      2016            IIT         6    AI  Gender-Neutral      IIT-Bombay   \n",
       "2      2016            IIT         6    AI  Gender-Neutral      IIT-Bombay   \n",
       "3      2016            IIT         6    AI  Gender-Neutral      IIT-Bombay   \n",
       "4      2016            IIT         6    AI  Gender-Neutral      IIT-Bombay   \n",
       "...     ...            ...       ...   ...             ...             ...   \n",
       "64953  2021            NIT         1    JK     Female-Only    NIT-Srinagar   \n",
       "64954  2021            NIT         1    JK  Gender-Neutral    NIT-Srinagar   \n",
       "64955  2021            NIT         1    JK     Female-Only    NIT-Srinagar   \n",
       "64956  2021            NIT         1    LA  Gender-Neutral    NIT-Srinagar   \n",
       "64957  2021            NIT         1    LA     Female-Only    NIT-Srinagar   \n",
       "\n",
       "                                    program_name program_duration  \\\n",
       "0                          Aerospace Engineering          4 Years   \n",
       "1                          Aerospace Engineering          4 Years   \n",
       "2                          Aerospace Engineering          4 Years   \n",
       "3                          Aerospace Engineering          4 Years   \n",
       "4                          Aerospace Engineering          4 Years   \n",
       "...                                          ...              ...   \n",
       "64953  Electronics and Communication Engineering          4 Years   \n",
       "64954  Electronics and Communication Engineering          4 Years   \n",
       "64955  Electronics and Communication Engineering          4 Years   \n",
       "64956  Electronics and Communication Engineering          4 Years   \n",
       "64957  Electronics and Communication Engineering          4 Years   \n",
       "\n",
       "      degree_short category  opening_rank  closing_rank  is_preparatory  \n",
       "0           B.Tech      GEN           838          1841               0  \n",
       "1           B.Tech  OBC-NCL           408          1098               0  \n",
       "2           B.Tech       SC           297           468               0  \n",
       "3           B.Tech       ST            79           145               0  \n",
       "4           B.Tech  GEN-PWD            94            94               0  \n",
       "...            ...      ...           ...           ...             ...  \n",
       "64953       B.Tech       SC         14185         24048               0  \n",
       "64954       B.Tech       ST          2736          4171               0  \n",
       "64955       B.Tech       ST         10870         10870               0  \n",
       "64956       B.Tech      GEN        166453        265454               0  \n",
       "64957       B.Tech      GEN        215054        215054               0  \n",
       "\n",
       "[64746 rows x 13 columns]"
      ]
     },
     "execution_count": 21,
     "metadata": {},
     "output_type": "execute_result"
    }
   ],
   "source": [
    "df"
   ]
  },
  {
   "cell_type": "code",
   "execution_count": 22,
   "id": "b2670d2a-711b-4b80-a8b7-1400d84445b7",
   "metadata": {},
   "outputs": [],
   "source": [
    "\n",
    "df = df[df[\"degree_short\"].isin([\"int M.Tech\", \"B.Pharm\"]) == False]\n"
   ]
  },
  {
   "cell_type": "code",
   "execution_count": 23,
   "id": "e99ed58b-a821-4d23-a3b8-9dd5e843e291",
   "metadata": {},
   "outputs": [
    {
     "name": "stdout",
     "output_type": "stream",
     "text": [
      "Index([    0,     1,     2,     3,     4,     5,     6,     7,     8,     9,\n",
      "       ...\n",
      "       64948, 64949, 64950, 64951, 64952, 64953, 64954, 64955, 64956, 64957],\n",
      "      dtype='int64', length=64746)\n"
     ]
    }
   ],
   "source": [
    "print(df.index)\n"
   ]
  },
  {
   "cell_type": "code",
   "execution_count": 24,
   "id": "1b692bb8-833b-4df7-a084-e0a5063c11ac",
   "metadata": {},
   "outputs": [
    {
     "data": {
      "text/html": [
       "<div>\n",
       "<style scoped>\n",
       "    .dataframe tbody tr th:only-of-type {\n",
       "        vertical-align: middle;\n",
       "    }\n",
       "\n",
       "    .dataframe tbody tr th {\n",
       "        vertical-align: top;\n",
       "    }\n",
       "\n",
       "    .dataframe thead th {\n",
       "        text-align: right;\n",
       "    }\n",
       "</style>\n",
       "<table border=\"1\" class=\"dataframe\">\n",
       "  <thead>\n",
       "    <tr style=\"text-align: right;\">\n",
       "      <th></th>\n",
       "      <th>Degree</th>\n",
       "    </tr>\n",
       "  </thead>\n",
       "  <tbody>\n",
       "    <tr>\n",
       "      <th>0</th>\n",
       "      <td>B.Tech</td>\n",
       "    </tr>\n",
       "    <tr>\n",
       "      <th>1</th>\n",
       "      <td>BSc</td>\n",
       "    </tr>\n",
       "    <tr>\n",
       "      <th>2</th>\n",
       "      <td>B.Tech + M.Tech (IDD)</td>\n",
       "    </tr>\n",
       "    <tr>\n",
       "      <th>3</th>\n",
       "      <td>Int MSc.</td>\n",
       "    </tr>\n",
       "    <tr>\n",
       "      <th>4</th>\n",
       "      <td>B.Arch</td>\n",
       "    </tr>\n",
       "    <tr>\n",
       "      <th>5</th>\n",
       "      <td>Int M.Tech</td>\n",
       "    </tr>\n",
       "    <tr>\n",
       "      <th>6</th>\n",
       "      <td>BS + MS (IDD)</td>\n",
       "    </tr>\n",
       "    <tr>\n",
       "      <th>7</th>\n",
       "      <td>Int Msc.</td>\n",
       "    </tr>\n",
       "    <tr>\n",
       "      <th>8</th>\n",
       "      <td>B.Plan</td>\n",
       "    </tr>\n",
       "    <tr>\n",
       "      <th>9</th>\n",
       "      <td>Btech + M.Tech (IDD)</td>\n",
       "    </tr>\n",
       "  </tbody>\n",
       "</table>\n",
       "</div>"
      ],
      "text/plain": [
       "                  Degree\n",
       "0                 B.Tech\n",
       "1                    BSc\n",
       "2  B.Tech + M.Tech (IDD)\n",
       "3               Int MSc.\n",
       "4                 B.Arch\n",
       "5             Int M.Tech\n",
       "6          BS + MS (IDD)\n",
       "7               Int Msc.\n",
       "8                 B.Plan\n",
       "9   Btech + M.Tech (IDD)"
      ]
     },
     "execution_count": 24,
     "metadata": {},
     "output_type": "execute_result"
    }
   ],
   "source": [
    "# Various degrees\n",
    "\n",
    "Degree = pd.DataFrame(df[\"degree_short\"].unique(), columns = {'Degree':0})\n",
    "Degree"
   ]
  },
  {
   "cell_type": "code",
   "execution_count": 25,
   "id": "8177e3a6-9798-48f3-b046-0f9d5923d2fd",
   "metadata": {},
   "outputs": [],
   "source": [
    "# Correcting the values\n",
    "\n",
    "df.loc[df[\"degree_short\"] == \"Int Msc.\", \"degree_short\"] = \"Int MSc.\""
   ]
  },
  {
   "cell_type": "code",
   "execution_count": 26,
   "id": "f1cb79e2-e2b8-4a0a-be84-88d5c7802110",
   "metadata": {},
   "outputs": [
    {
     "data": {
      "text/plain": [
       "9"
      ]
     },
     "execution_count": 26,
     "metadata": {},
     "output_type": "execute_result"
    }
   ],
   "source": [
    "df[\"degree_short\"].nunique()"
   ]
  },
  {
   "cell_type": "code",
   "execution_count": 27,
   "id": "64b6cfa5-095d-4994-94d8-6ff66d9a3584",
   "metadata": {},
   "outputs": [
    {
     "data": {
      "text/html": [
       "<div>\n",
       "<style scoped>\n",
       "    .dataframe tbody tr th:only-of-type {\n",
       "        vertical-align: middle;\n",
       "    }\n",
       "\n",
       "    .dataframe tbody tr th {\n",
       "        vertical-align: top;\n",
       "    }\n",
       "\n",
       "    .dataframe thead th {\n",
       "        text-align: right;\n",
       "    }\n",
       "</style>\n",
       "<table border=\"1\" class=\"dataframe\">\n",
       "  <thead>\n",
       "    <tr style=\"text-align: right;\">\n",
       "      <th></th>\n",
       "      <th>0</th>\n",
       "    </tr>\n",
       "  </thead>\n",
       "  <tbody>\n",
       "    <tr>\n",
       "      <th>0</th>\n",
       "      <td>6</td>\n",
       "    </tr>\n",
       "    <tr>\n",
       "      <th>1</th>\n",
       "      <td>7</td>\n",
       "    </tr>\n",
       "    <tr>\n",
       "      <th>2</th>\n",
       "      <td>1</td>\n",
       "    </tr>\n",
       "    <tr>\n",
       "      <th>3</th>\n",
       "      <td>2</td>\n",
       "    </tr>\n",
       "  </tbody>\n",
       "</table>\n",
       "</div>"
      ],
      "text/plain": [
       "   0\n",
       "0  6\n",
       "1  7\n",
       "2  1\n",
       "3  2"
      ]
     },
     "execution_count": 27,
     "metadata": {},
     "output_type": "execute_result"
    }
   ],
   "source": [
    "Round = pd.DataFrame(df[\"round_no\"].unique())\n",
    "Round"
   ]
  },
  {
   "cell_type": "code",
   "execution_count": 28,
   "id": "2388d3bb-b41d-4977-b442-0768b81f1786",
   "metadata": {},
   "outputs": [
    {
     "data": {
      "text/html": [
       "<div>\n",
       "<style scoped>\n",
       "    .dataframe tbody tr th:only-of-type {\n",
       "        vertical-align: middle;\n",
       "    }\n",
       "\n",
       "    .dataframe tbody tr th {\n",
       "        vertical-align: top;\n",
       "    }\n",
       "\n",
       "    .dataframe thead th {\n",
       "        text-align: right;\n",
       "    }\n",
       "</style>\n",
       "<table border=\"1\" class=\"dataframe\">\n",
       "  <thead>\n",
       "    <tr style=\"text-align: right;\">\n",
       "      <th></th>\n",
       "      <th>0</th>\n",
       "    </tr>\n",
       "  </thead>\n",
       "  <tbody>\n",
       "    <tr>\n",
       "      <th>0</th>\n",
       "      <td>GEN</td>\n",
       "    </tr>\n",
       "    <tr>\n",
       "      <th>1</th>\n",
       "      <td>OBC-NCL</td>\n",
       "    </tr>\n",
       "    <tr>\n",
       "      <th>2</th>\n",
       "      <td>SC</td>\n",
       "    </tr>\n",
       "    <tr>\n",
       "      <th>3</th>\n",
       "      <td>ST</td>\n",
       "    </tr>\n",
       "    <tr>\n",
       "      <th>4</th>\n",
       "      <td>GEN-PWD</td>\n",
       "    </tr>\n",
       "    <tr>\n",
       "      <th>5</th>\n",
       "      <td>OBC-NCL-PWD</td>\n",
       "    </tr>\n",
       "    <tr>\n",
       "      <th>6</th>\n",
       "      <td>SC-PWD</td>\n",
       "    </tr>\n",
       "    <tr>\n",
       "      <th>7</th>\n",
       "      <td>ST-PWD</td>\n",
       "    </tr>\n",
       "    <tr>\n",
       "      <th>8</th>\n",
       "      <td>GEN-EWS</td>\n",
       "    </tr>\n",
       "    <tr>\n",
       "      <th>9</th>\n",
       "      <td>GEN-EWS-PWD</td>\n",
       "    </tr>\n",
       "  </tbody>\n",
       "</table>\n",
       "</div>"
      ],
      "text/plain": [
       "             0\n",
       "0          GEN\n",
       "1      OBC-NCL\n",
       "2           SC\n",
       "3           ST\n",
       "4      GEN-PWD\n",
       "5  OBC-NCL-PWD\n",
       "6       SC-PWD\n",
       "7       ST-PWD\n",
       "8      GEN-EWS\n",
       "9  GEN-EWS-PWD"
      ]
     },
     "execution_count": 28,
     "metadata": {},
     "output_type": "execute_result"
    }
   ],
   "source": [
    "# Unique values in category\n",
    "\n",
    "Category = pd.DataFrame(df[\"category\"].unique())\n",
    "Category"
   ]
  },
  {
   "cell_type": "code",
   "execution_count": 29,
   "id": "a3977d69-fd6e-4e64-85b6-2522e98ac764",
   "metadata": {},
   "outputs": [
    {
     "data": {
      "text/plain": [
       "<Axes: >"
      ]
     },
     "execution_count": 29,
     "metadata": {},
     "output_type": "execute_result"
    },
    {
     "data": {
      "image/png": "[encoded data removed]",
      "text/plain": [
       "<Figure size 640x480 with 2 Axes>"
      ]
     },
     "metadata": {},
     "output_type": "display_data"
    }
   ],
   "source": [
    "# Checking the null values in dataset\n",
    "\n",
    "sns.heatmap(df.isnull(),yticklabels=False,cmap='viridis', alpha = 0.5)"
   ]
  },
  {
   "cell_type": "code",
   "execution_count": 30,
   "id": "2939ac1c-0a63-4275-b2f6-1ae2d127c07c",
   "metadata": {},
   "outputs": [],
   "source": [
    "# Creating new CSV file After correcting the Dataset\n",
    "\n",
    "df.to_csv(\"iit-and-nit-colleges-admission-criteria-version-2.csv\")"
   ]
  },
  {
   "cell_type": "markdown",
   "id": "ff852c84-9e52-4afc-8ff2-9990c4c10d98",
   "metadata": {},
   "source": [
    "# **<span style=\"color:#ff3385;\">🥽 Let's see what all we can explore in this dataset</span>**\n",
    "\n",
    "> 1. What does reservation say about admit to these colleges?\n",
    "\n",
    "> 2. What is the most optimum Opening and closing rank in overall years?\n",
    "\n",
    "> 3. Which universities/colleges provide preparatory courses?\n",
    "\n",
    "> 4. Which category gets most preference for prepratory courses? \n",
    "\n",
    "> 5. Institutes and degrees they provide?\n",
    "\n",
    "> 6. Which institute who provide 4 year and 5 year courses?"
   ]
  },
  {
   "cell_type": "code",
   "execution_count": 31,
   "id": "5c783a78-7b3b-4c4b-903f-499980574c4a",
   "metadata": {},
   "outputs": [
    {
     "data": {
      "image/png": "[encoded data removed]",
      "text/plain": [
       "<Figure size 1500x800 with 1 Axes>"
      ]
     },
     "metadata": {},
     "output_type": "display_data"
    }
   ],
   "source": [
    "#Let's check out All Institutes in the dataset\n",
    "\n",
    "plt.figure(figsize=(15,8))\n",
    "institutes = df.groupby(['institute_short']).size().plot(kind = 'bar', color = \"#5cd65c\", alpha = 0.5)\n",
    "plt.show()"
   ]
  },
  {
   "cell_type": "code",
   "execution_count": 32,
   "id": "b86aaded-0577-404c-bdcd-610e8bc36a9a",
   "metadata": {},
   "outputs": [
    {
     "name": "stderr",
     "output_type": "stream",
     "text": [
      "C:\\ProgramData\\anaconda3\\Lib\\site-packages\\seaborn\\_oldcore.py:1119: FutureWarning: use_inf_as_na option is deprecated and will be removed in a future version. Convert inf values to NaN before operating instead.\n",
      "  with pd.option_context('mode.use_inf_as_na', True):\n",
      "C:\\ProgramData\\anaconda3\\Lib\\site-packages\\seaborn\\_oldcore.py:1119: FutureWarning: use_inf_as_na option is deprecated and will be removed in a future version. Convert inf values to NaN before operating instead.\n",
      "  with pd.option_context('mode.use_inf_as_na', True):\n"
     ]
    },
    {
     "data": {
      "text/plain": [
       "Text(0, 0.5, 'students')"
      ]
     },
     "execution_count": 32,
     "metadata": {},
     "output_type": "execute_result"
    },
    {
     "data": {
      "image/png": "[encoded data removed]",
      "text/plain": [
       "<Figure size 1500x800 with 1 Axes>"
      ]
     },
     "metadata": {},
     "output_type": "display_data"
    }
   ],
   "source": [
    "# Students admitted per year\n",
    "\n",
    "plt.figure(figsize=(15,8))\n",
    "plt.title('student per year')\n",
    "sns.lineplot(x=['2021','2020','2019','2018','2017','2016'],y=df['year'].value_counts(), color = \"#ff1a1a\", alpha = 0.5)\n",
    "plt.ylabel('students')"
   ]
  },
  {
   "cell_type": "markdown",
   "id": "7bda78dc-e6b4-4891-9fb1-9c5da875964c",
   "metadata": {},
   "source": [
    "## **<span style=\"color:#ff3385;\">1️⃣ What does reservation say about admit to these colleges?</span>**"
   ]
  },
  {
   "cell_type": "code",
   "execution_count": 33,
   "id": "72f4f570-116f-4bac-8b38-e74c51074aca",
   "metadata": {},
   "outputs": [
    {
     "data": {
      "text/plain": [
       "quota\n",
       "AI    32897\n",
       "OS    16848\n",
       "HS    14201\n",
       "JK      393\n",
       "GO      275\n",
       "AP       72\n",
       "LA       60\n",
       "Name: count, dtype: int64"
      ]
     },
     "execution_count": 33,
     "metadata": {},
     "output_type": "execute_result"
    }
   ],
   "source": [
    "max_quota = df['quota'].value_counts()\n",
    "max_quota"
   ]
  },
  {
   "cell_type": "code",
   "execution_count": 34,
   "id": "8a8b9937-5d61-4f58-b79a-fea24ecd973f",
   "metadata": {},
   "outputs": [
    {
     "data": {
      "image/png": "[encoded data removed]",
      "text/plain": [
       "<Figure size 1500x800 with 1 Axes>"
      ]
     },
     "metadata": {},
     "output_type": "display_data"
    }
   ],
   "source": [
    "plt.figure(figsize=(15,8))\n",
    "plt.plot(max_quota, color = \"#2e2eb8\", alpha = 0.5)\n",
    "plt.show()"
   ]
  },
  {
   "cell_type": "code",
   "execution_count": 35,
   "id": "b31cb615-04dd-47c4-b26d-3170938c67e4",
   "metadata": {},
   "outputs": [
    {
     "data": {
      "image/png": "[encoded data removed]",
      "text/plain": [
       "<Figure size 1500x800 with 1 Axes>"
      ]
     },
     "metadata": {},
     "output_type": "display_data"
    }
   ],
   "source": [
    "#Yearly quota study\n",
    "\n",
    "plt.figure(figsize=(15,8))\n",
    "year_club = df.groupby(['year', 'quota']).size().plot(kind = 'bar', color = \"#000000\", alpha = 0.5)"
   ]
  },
  {
   "cell_type": "markdown",
   "id": "25a5c3fc-d503-4ce1-9d60-a1144bb09836",
   "metadata": {},
   "source": [
    "**<span style=\"color:#006600;\">From the above plot, we see that AI - all India quota covers maximum number of students followed by OS - Other State and HS - Home State.\n",
    "While the second plot depicts that AI(All India) quota played an important role from 2016 to 2018.</span>**"
   ]
  },
  {
   "cell_type": "markdown",
   "id": "2bd703cf-1ec7-45d2-abc5-4da325e68b1d",
   "metadata": {},
   "source": [
    "## **<span style=\"color:#ff3385;\">2️⃣ What is the most optimum Opening and closing rank in overall years??</span>**"
   ]
  },
  {
   "cell_type": "code",
   "execution_count": 36,
   "id": "fd4243b3-7d80-46cb-b2dc-36094b9f1d3d",
   "metadata": {},
   "outputs": [
    {
     "name": "stdout",
     "output_type": "stream",
     "text": [
      "Average opening rank over the years has been -  8212\n"
     ]
    }
   ],
   "source": [
    "avg_opening_rank = df['opening_rank'].mean(axis = 0)\n",
    "avg_open_rank = round(avg_opening_rank)\n",
    "print(\"Average opening rank over the years has been - \", avg_open_rank)"
   ]
  },
  {
   "cell_type": "code",
   "execution_count": 37,
   "id": "b4302c1e-61ee-4238-aaf7-945850e675a2",
   "metadata": {},
   "outputs": [
    {
     "name": "stdout",
     "output_type": "stream",
     "text": [
      "Max opening rank over the years has been -  1082601\n"
     ]
    }
   ],
   "source": [
    "max_opening_rank = df['opening_rank'].max(axis = 0)\n",
    "max_open_rank = round(max_opening_rank)\n",
    "print(\"Max opening rank over the years has been - \", max_open_rank)"
   ]
  },
  {
   "cell_type": "code",
   "execution_count": 38,
   "id": "0505fb26-87d7-4e15-a14b-71c46c50e7c1",
   "metadata": {},
   "outputs": [
    {
     "name": "stdout",
     "output_type": "stream",
     "text": [
      "Min opening rank over the years has been -  0\n"
     ]
    }
   ],
   "source": [
    "min_opening_rank = df['opening_rank'].min(axis = 0)\n",
    "min_open_rank = round(min_opening_rank)\n",
    "print(\"Min opening rank over the years has been - \", min_open_rank)"
   ]
  },
  {
   "cell_type": "code",
   "execution_count": 39,
   "id": "0636d9a5-1942-47ae-bf1d-58538ab1ec65",
   "metadata": {},
   "outputs": [
    {
     "name": "stdout",
     "output_type": "stream",
     "text": [
      "Average closing rank over the years has been -  10628\n"
     ]
    }
   ],
   "source": [
    "avg_closing_rank = round(df['closing_rank'].mean(axis = 0))\n",
    "print(\"Average closing rank over the years has been - \", avg_closing_rank)"
   ]
  },
  {
   "cell_type": "code",
   "execution_count": 40,
   "id": "53e38ad7-1dc9-41d7-bb7a-09c21d8eaf4d",
   "metadata": {},
   "outputs": [
    {
     "name": "stdout",
     "output_type": "stream",
     "text": [
      "Max closing rank over the years has been -  1144790\n"
     ]
    }
   ],
   "source": [
    "max_closing_rank = df['closing_rank'].max(axis = 0)\n",
    "max_close_rank = round(max_closing_rank)\n",
    "print(\"Max closing rank over the years has been - \", max_close_rank)"
   ]
  },
  {
   "cell_type": "code",
   "execution_count": 41,
   "id": "e1c24ad1-b5f3-4646-adbd-6b753914cc13",
   "metadata": {},
   "outputs": [
    {
     "name": "stdout",
     "output_type": "stream",
     "text": [
      "Min closing rank over the years has been -  0\n"
     ]
    }
   ],
   "source": [
    "min_closing_rank = df['closing_rank'].min(axis = 0)\n",
    "min_close_rank = round(min_closing_rank)\n",
    "print(\"Min closing rank over the years has been - \", min_close_rank)"
   ]
  },
  {
   "cell_type": "markdown",
   "id": "f9d388db-7e52-42f8-97ec-fcd1939f3476",
   "metadata": {},
   "source": [
    "**<span style=\"color:#006600;\">From analysis of Opening and Closing ranks, we can say that on average if you score a rank around ~8000 then you might become eligible. While keeping in mind the quota factor, the maximum and minimum ranks still vary on a range of large scale till about 10 lakhs.</span>**"
   ]
  },
  {
   "cell_type": "markdown",
   "id": "2d08a117-b650-4762-abe9-b78faf3bdb9d",
   "metadata": {},
   "source": [
    "## **<span style=\"color:#ff3385;\">3️⃣  Which universities/colleges provide preparatory courses? </span>**"
   ]
  },
  {
   "cell_type": "code",
   "execution_count": 42,
   "id": "ba51c5ff-bffc-4891-9183-b388c7454b6b",
   "metadata": {},
   "outputs": [
    {
     "data": {
      "image/png": "[encoded data removed]",
      "text/plain": [
       "<Figure size 1500x800 with 1 Axes>"
      ]
     },
     "metadata": {},
     "output_type": "display_data"
    }
   ],
   "source": [
    "# Which universities/colleges provide preparatory courses (represented by 1)\n",
    "\n",
    "plt.figure(figsize=(15,8))\n",
    "prep_true = df.loc[df['is_preparatory'] == 1, 'institute_short'].value_counts()\n",
    "plt.plot(prep_true, 'o', color = \"#ff0000\", alpha = 0.5)\n",
    "plt.xticks(rotation = 60)\n",
    "plt.show() "
   ]
  },
  {
   "cell_type": "markdown",
   "id": "c356b025-4ad4-4ab8-9795-a6064926bf64",
   "metadata": {},
   "source": [
    "**<span style=\"color:#006600;\"> From the above chart, we found some of the colleges that provide preparatory courses. Here IIT Kharagpur provides maximum number of preparatory courses to students followed by IIT Roorkee and BHU.</span>**"
   ]
  },
  {
   "cell_type": "markdown",
   "id": "0789a61b-8752-40ff-907e-8f334c7b2b41",
   "metadata": {},
   "source": [
    "## **<span style=\"color:#ff3385;\">4️⃣ Which category gets most prefrence for prepratory courses?</span>**"
   ]
  },
  {
   "cell_type": "code",
   "execution_count": 43,
   "id": "dcbd0e45-b65f-4a6b-8dd3-d6316d8ccee4",
   "metadata": {},
   "outputs": [
    {
     "data": {
      "image/png": "[encoded data removed]",
      "text/plain": [
       "<Figure size 1500x800 with 1 Axes>"
      ]
     },
     "metadata": {},
     "output_type": "display_data"
    }
   ],
   "source": [
    "plt.figure(figsize=(15,8))\n",
    "category_true = df.loc[df['is_preparatory'] == 1, 'category'].value_counts()\n",
    "category_plot = category_true.plot(kind = 'bar', color = \"#000066\", alpha = 0.5)\n",
    "\n",
    "plt.xticks(rotation = 360)\n",
    "plt.legend()\n",
    "plt.show()"
   ]
  },
  {
   "cell_type": "markdown",
   "id": "106e0081-dfd0-4a79-8330-f6a6fc23c62e",
   "metadata": {},
   "source": [
    "## **<span style=\"color:#ff3385;\">5️⃣ Institutes and degrees they provide </span>**"
   ]
  },
  {
   "cell_type": "markdown",
   "id": "7d0b5c15-019a-49ad-b11c-01114741590a",
   "metadata": {},
   "source": [
    "Here '**degree_short**' The name of the degree (Abbreviated) and '**institute_short**' is the name of institute (Abbreviated)"
   ]
  },
  {
   "cell_type": "code",
   "execution_count": 44,
   "id": "479a1405-b63c-4c29-9144-f072d3254e6e",
   "metadata": {},
   "outputs": [
    {
     "data": {
      "image/png": "[encoded data removed]",
      "text/plain": [
       "<Figure size 1500x800 with 1 Axes>"
      ]
     },
     "metadata": {},
     "output_type": "display_data"
    }
   ],
   "source": [
    "plt.figure(figsize=(15,8))\n",
    "year_club = df.groupby(['degree_short','institute_short']).institute_short.count().head(20).plot(kind = 'bar',color = \"#ff6600\", alpha = 0.5)\n",
    "plt.legend()\n",
    "plt.show()"
   ]
  },
  {
   "cell_type": "markdown",
   "id": "dbb28f3c-883d-4cb3-a0e9-b37e0162f631",
   "metadata": {},
   "source": [
    "**<span style=\"color:#006600;\">As per above bar graph, B.Tech still seems to be the choice of most students when it comes to getting admission in IIT or NITs.</span>**"
   ]
  },
  {
   "cell_type": "markdown",
   "id": "0be94828-1e69-491a-a5b4-f57859961613",
   "metadata": {},
   "source": [
    "## **<span style=\"color:#ff3385;\">6️⃣ Institutes who provide 4 year and 5 year courses.</span>**"
   ]
  },
  {
   "cell_type": "code",
   "execution_count": 45,
   "id": "df22993c-da1f-454f-a97d-f94c97d8b44e",
   "metadata": {},
   "outputs": [
    {
     "data": {
      "image/png": "[encoded data removed]",
      "text/plain": [
       "<Figure size 1500x800 with 1 Axes>"
      ]
     },
     "metadata": {},
     "output_type": "display_data"
    }
   ],
   "source": [
    "#Institutes with 4 year courses\n",
    "\n",
    "plt.figure(figsize=(15,8))\n",
    "\n",
    "years_true = df.loc[df['program_duration'] == '4 Years', 'institute_short'].value_counts().head(20).plot(kind = 'bar',color = \"#47d147\", alpha = 0.5)\n",
    "\n",
    "plt.legend()\n",
    "plt.show()\n",
    "\n",
    "#we need camprision of 4 and 5 years course"
   ]
  },
  {
   "cell_type": "markdown",
   "id": "ed58699f-8b66-4ed5-acd1-7d245debb460",
   "metadata": {},
   "source": [
    "**<span style=\"color:#006600;\">IIT Kharagpur has most 4 years courses to offer followed by IIT-Delhi and IIT-Kanpur.</span>**"
   ]
  },
  {
   "cell_type": "code",
   "execution_count": 46,
   "id": "11e6bfca-bb3f-4c8c-9f78-446b4e8c49e2",
   "metadata": {},
   "outputs": [
    {
     "data": {
      "image/png": "[encoded data removed]",
      "text/plain": [
       "<Figure size 1500x800 with 1 Axes>"
      ]
     },
     "metadata": {},
     "output_type": "display_data"
    }
   ],
   "source": [
    "#Institutes with 5 year courses\n",
    "\n",
    "plt.figure(figsize=(15,8))\n",
    "\n",
    "years_true = df.loc[df['program_duration'] == '5 Years', 'institute_short'].value_counts().head(20).plot(kind = 'bar',color = \"#ff4da6\", alpha = 0.5)\n",
    "plt.legend()\n",
    "plt.show()"
   ]
  },
  {
   "cell_type": "markdown",
   "id": "6ea60f48-eb16-46c0-812e-11202be503cc",
   "metadata": {},
   "source": [
    "# **<span style=\"color:#ff3385;\">⚔ Evaluation of the model</span>**\n",
    "\n",
    "Here we evaluate the model and find its error and accuracy rate based on the given feature and target data. We also find out that how the model works when we give it a specific type of data for the prediction."
   ]
  },
  {
   "cell_type": "code",
   "execution_count": 47,
   "id": "f38b06c8-3715-480f-91c0-baea1fee1932",
   "metadata": {},
   "outputs": [
    {
     "data": {
      "text/html": [
       "<div>\n",
       "<style scoped>\n",
       "    .dataframe tbody tr th:only-of-type {\n",
       "        vertical-align: middle;\n",
       "    }\n",
       "\n",
       "    .dataframe tbody tr th {\n",
       "        vertical-align: top;\n",
       "    }\n",
       "\n",
       "    .dataframe thead th {\n",
       "        text-align: right;\n",
       "    }\n",
       "</style>\n",
       "<table border=\"1\" class=\"dataframe\">\n",
       "  <thead>\n",
       "    <tr style=\"text-align: right;\">\n",
       "      <th></th>\n",
       "      <th>year</th>\n",
       "      <th>institute_type</th>\n",
       "      <th>round_no</th>\n",
       "      <th>quota</th>\n",
       "      <th>pool</th>\n",
       "      <th>institute_short</th>\n",
       "      <th>program_name</th>\n",
       "      <th>program_duration</th>\n",
       "      <th>degree_short</th>\n",
       "      <th>category</th>\n",
       "      <th>opening_rank</th>\n",
       "      <th>closing_rank</th>\n",
       "      <th>is_preparatory</th>\n",
       "    </tr>\n",
       "  </thead>\n",
       "  <tbody>\n",
       "    <tr>\n",
       "      <th>0</th>\n",
       "      <td>2016</td>\n",
       "      <td>IIT</td>\n",
       "      <td>6</td>\n",
       "      <td>AI</td>\n",
       "      <td>Gender-Neutral</td>\n",
       "      <td>IIT-Bombay</td>\n",
       "      <td>Aerospace Engineering</td>\n",
       "      <td>4 Years</td>\n",
       "      <td>B.Tech</td>\n",
       "      <td>GEN</td>\n",
       "      <td>838</td>\n",
       "      <td>1841</td>\n",
       "      <td>0</td>\n",
       "    </tr>\n",
       "    <tr>\n",
       "      <th>1</th>\n",
       "      <td>2016</td>\n",
       "      <td>IIT</td>\n",
       "      <td>6</td>\n",
       "      <td>AI</td>\n",
       "      <td>Gender-Neutral</td>\n",
       "      <td>IIT-Bombay</td>\n",
       "      <td>Aerospace Engineering</td>\n",
       "      <td>4 Years</td>\n",
       "      <td>B.Tech</td>\n",
       "      <td>OBC-NCL</td>\n",
       "      <td>408</td>\n",
       "      <td>1098</td>\n",
       "      <td>0</td>\n",
       "    </tr>\n",
       "    <tr>\n",
       "      <th>2</th>\n",
       "      <td>2016</td>\n",
       "      <td>IIT</td>\n",
       "      <td>6</td>\n",
       "      <td>AI</td>\n",
       "      <td>Gender-Neutral</td>\n",
       "      <td>IIT-Bombay</td>\n",
       "      <td>Aerospace Engineering</td>\n",
       "      <td>4 Years</td>\n",
       "      <td>B.Tech</td>\n",
       "      <td>SC</td>\n",
       "      <td>297</td>\n",
       "      <td>468</td>\n",
       "      <td>0</td>\n",
       "    </tr>\n",
       "    <tr>\n",
       "      <th>3</th>\n",
       "      <td>2016</td>\n",
       "      <td>IIT</td>\n",
       "      <td>6</td>\n",
       "      <td>AI</td>\n",
       "      <td>Gender-Neutral</td>\n",
       "      <td>IIT-Bombay</td>\n",
       "      <td>Aerospace Engineering</td>\n",
       "      <td>4 Years</td>\n",
       "      <td>B.Tech</td>\n",
       "      <td>ST</td>\n",
       "      <td>79</td>\n",
       "      <td>145</td>\n",
       "      <td>0</td>\n",
       "    </tr>\n",
       "    <tr>\n",
       "      <th>4</th>\n",
       "      <td>2016</td>\n",
       "      <td>IIT</td>\n",
       "      <td>6</td>\n",
       "      <td>AI</td>\n",
       "      <td>Gender-Neutral</td>\n",
       "      <td>IIT-Bombay</td>\n",
       "      <td>Aerospace Engineering</td>\n",
       "      <td>4 Years</td>\n",
       "      <td>B.Tech</td>\n",
       "      <td>GEN-PWD</td>\n",
       "      <td>94</td>\n",
       "      <td>94</td>\n",
       "      <td>0</td>\n",
       "    </tr>\n",
       "  </tbody>\n",
       "</table>\n",
       "</div>"
      ],
      "text/plain": [
       "   year institute_type  round_no quota            pool institute_short  \\\n",
       "0  2016            IIT         6    AI  Gender-Neutral      IIT-Bombay   \n",
       "1  2016            IIT         6    AI  Gender-Neutral      IIT-Bombay   \n",
       "2  2016            IIT         6    AI  Gender-Neutral      IIT-Bombay   \n",
       "3  2016            IIT         6    AI  Gender-Neutral      IIT-Bombay   \n",
       "4  2016            IIT         6    AI  Gender-Neutral      IIT-Bombay   \n",
       "\n",
       "            program_name program_duration degree_short category  opening_rank  \\\n",
       "0  Aerospace Engineering          4 Years       B.Tech      GEN           838   \n",
       "1  Aerospace Engineering          4 Years       B.Tech  OBC-NCL           408   \n",
       "2  Aerospace Engineering          4 Years       B.Tech       SC           297   \n",
       "3  Aerospace Engineering          4 Years       B.Tech       ST            79   \n",
       "4  Aerospace Engineering          4 Years       B.Tech  GEN-PWD            94   \n",
       "\n",
       "   closing_rank  is_preparatory  \n",
       "0          1841               0  \n",
       "1          1098               0  \n",
       "2           468               0  \n",
       "3           145               0  \n",
       "4            94               0  "
      ]
     },
     "execution_count": 47,
     "metadata": {},
     "output_type": "execute_result"
    }
   ],
   "source": [
    "eval_College = df\n",
    "eval_College.head()"
   ]
  },
  {
   "cell_type": "markdown",
   "id": "16c1d85a-4b0f-449f-ba72-7a861764f085",
   "metadata": {},
   "source": [
    "## **<span style=\"color:#a300cc;\">🔁 Converting object values into numerical form</span>**\n",
    "\n",
    "**institute_type** - IIT : 0, NIT : 1\n",
    "\n",
    "**Quota** :-\n",
    "\n",
    "AI : All-India - 0\n",
    "\n",
    "HS : Home-State - 3\n",
    "\n",
    "OS : Other-State - 6\n",
    "\n",
    "AP : Andhra Pradesh - 1\n",
    "\n",
    "GO : Goa - 2\n",
    "\n",
    "JK : Jammu & Kashmir - 4\n",
    "\n",
    "LA : Ladakh - 5\n",
    "\n",
    "**Pool** - Gender-Neutral : 0, Female-only : 1\n",
    "\n",
    "**Category** :-\n",
    "\n",
    "GEN : General - 0\n",
    "\n",
    "OBC-NCL : Other Backward Classes-Non Creamy Layer - 4\n",
    "\n",
    "SC : Scheduled Castes - 6\n",
    "\n",
    "ST : Scheduled Tribes - 8\n",
    "\n",
    "GEN-PWD : General & Persons with Disabilities - 3\n",
    "\n",
    "OBC-NCL-PWD : Other Backward Classes & Persons with Disabilities - 5\n",
    "\n",
    "SC-PWD : Scheduled Castes & Persons with Disabilities - 7\n",
    "\n",
    "ST-PWD : Scheduled Tribes & Persons with Disabilities - 9\n",
    "\n",
    "GEN-EWS : General & Economically Weaker Section - 1\n",
    "\n",
    "GEN-EWS-PWD : General & Economically Weaker Section & Persons with Disability - 2"
   ]
  },
  {
   "cell_type": "code",
   "execution_count": 48,
   "id": "a5e9030e-cd1d-4964-be4c-23d390e3b246",
   "metadata": {},
   "outputs": [
    {
     "data": {
      "text/plain": [
       "array([0, 1], dtype=int64)"
      ]
     },
     "execution_count": 48,
     "metadata": {},
     "output_type": "execute_result"
    }
   ],
   "source": [
    "# Changing Institute type\n",
    "\n",
    "eval_College['institute_type'] = [0 if x == 'IIT' else 1 for x in eval_College['institute_type']]\n",
    "eval_College['institute_type'].unique()"
   ]
  },
  {
   "cell_type": "code",
   "execution_count": 49,
   "id": "e0a47d85-e311-4cf6-97a7-60fbffe33711",
   "metadata": {},
   "outputs": [],
   "source": [
    "# importing library for encoding\n",
    "\n",
    "from sklearn.preprocessing import LabelEncoder"
   ]
  },
  {
   "cell_type": "code",
   "execution_count": 50,
   "id": "dc57139c-5c7e-437e-9d7f-256179cf0b64",
   "metadata": {},
   "outputs": [
    {
     "data": {
      "text/plain": [
       "array([0, 3, 6, 1, 2, 4, 5])"
      ]
     },
     "execution_count": 50,
     "metadata": {},
     "output_type": "execute_result"
    }
   ],
   "source": [
    "# Labeling the quota values\n",
    "\n",
    "le = LabelEncoder()\n",
    "eval_College['quota'] = le.fit_transform(eval_College['quota'])\n",
    "eval_College['quota'].unique()"
   ]
  },
  {
   "cell_type": "code",
   "execution_count": 51,
   "id": "efb4f04b-baa1-480e-ad67-93877ac9b363",
   "metadata": {},
   "outputs": [
    {
     "data": {
      "text/plain": [
       "array([0, 1], dtype=int64)"
      ]
     },
     "execution_count": 51,
     "metadata": {},
     "output_type": "execute_result"
    }
   ],
   "source": [
    "# changing the pool values\n",
    "\n",
    "eval_College['pool'] = [0 if x == 'Gender-Neutral' else 1 for x in eval_College['pool']]\n",
    "eval_College['pool'].unique()"
   ]
  },
  {
   "cell_type": "code",
   "execution_count": 52,
   "id": "18d234ca-ee5d-4fe0-ac60-2b5e9b2a5c95",
   "metadata": {},
   "outputs": [
    {
     "data": {
      "text/plain": [
       "array([0, 4, 6, 8, 3, 5, 7, 9, 1, 2])"
      ]
     },
     "execution_count": 52,
     "metadata": {},
     "output_type": "execute_result"
    }
   ],
   "source": [
    "# Labeling the categories\n",
    "\n",
    "eval_College['category']= le.fit_transform(eval_College['category'])\n",
    "eval_College['category'].unique()"
   ]
  },
  {
   "cell_type": "code",
   "execution_count": 53,
   "id": "a3f945bf-aca7-47c0-b73c-8c69d3784e74",
   "metadata": {},
   "outputs": [
    {
     "data": {
      "text/plain": [
       "array([ 4,  5, 15, 14, 16, 20,  9, 11, 10,  0, 19,  1,  3, 17,  7, 21, 13,\n",
       "       22,  2,  6,  8, 12, 18, 53, 51, 52, 50, 42, 25, 34, 33, 27, 24, 28,\n",
       "       23, 29, 30, 31, 32, 39, 36, 43, 41, 44, 45, 47, 26, 35, 37, 38, 40,\n",
       "       46, 48, 49])"
      ]
     },
     "execution_count": 53,
     "metadata": {},
     "output_type": "execute_result"
    }
   ],
   "source": [
    "# Labeling the Institute values\n",
    "\n",
    "eval_College['institute_short']= le.fit_transform(eval_College['institute_short'])\n",
    "eval_College['institute_short'].unique()"
   ]
  },
  {
   "cell_type": "code",
   "execution_count": 54,
   "id": "1c8b6cb3-8799-48bb-a626-758f02b2cc83",
   "metadata": {},
   "outputs": [
    {
     "data": {
      "text/plain": [
       "array([  0,  28,  31,  32,  42,  47,  51,  52,  64,  66,  67,  98, 101,\n",
       "       107, 108, 109,  14,  24,  48,  95, 125, 128,   1,   2,   4,   7,\n",
       "        37,  46,  54,  58,  59,  72,  79,  80,  83,  86, 114,  87, 104,\n",
       "       110, 116, 118, 121, 126,  20,  45,  90,  97,  18,  19,  65, 117,\n",
       "         6,  13,  57,  74,  75, 123,  29,  61,  68,  91,  15,  17,  26,\n",
       "        36,  53,  56,  76,  92, 105,   5,  62,  70, 112, 115, 119,  33,\n",
       "        34,  99, 100, 120,  35,  49, 103, 111,  10,  71, 102, 106,   3,\n",
       "        60,  81,  88,   8,  16,  44,  11,  55,  50,  69,  89,  21,   9,\n",
       "        38, 113,  22,  43,  63, 127,  30,  94,  25,  39,  84, 124,  41,\n",
       "        93,  82,  78, 122,  23,  12,  77,  73,  27,  85,  96,  40])"
      ]
     },
     "execution_count": 54,
     "metadata": {},
     "output_type": "execute_result"
    }
   ],
   "source": [
    "# Labeling the Program Name values\n",
    "\n",
    "eval_College['program_name']= le.fit_transform(eval_College['program_name'])\n",
    "eval_College['program_name'].unique()"
   ]
  },
  {
   "cell_type": "code",
   "execution_count": 55,
   "id": "5e4e5af1-b5b8-4dd4-98dc-be2e21950e29",
   "metadata": {},
   "outputs": [
    {
     "data": {
      "text/plain": [
       "array([2, 5, 3, 8, 0, 7, 4, 1, 6])"
      ]
     },
     "execution_count": 55,
     "metadata": {},
     "output_type": "execute_result"
    }
   ],
   "source": [
    "# Labeling the Degree values\n",
    "\n",
    "eval_College['degree_short']= le.fit_transform(eval_College['degree_short'])\n",
    "eval_College['degree_short'].unique()"
   ]
  },
  {
   "cell_type": "code",
   "execution_count": 56,
   "id": "0d2db096-79b0-4a52-ac7f-63014a49e078",
   "metadata": {},
   "outputs": [],
   "source": [
    "# Target data\n",
    "\n",
    "y = eval_College[['institute_short', 'degree_short', 'program_name']]"
   ]
  },
  {
   "cell_type": "code",
   "execution_count": 57,
   "id": "a58c52fe-84af-42f6-9904-1b393cbec0af",
   "metadata": {},
   "outputs": [],
   "source": [
    "# Featured data\n",
    "\n",
    "X = eval_College[['category', 'quota', 'pool', 'institute_type', 'round_no',\n",
    "       'opening_rank', 'closing_rank']]"
   ]
  },
  {
   "cell_type": "code",
   "execution_count": 58,
   "id": "84b05519-4ed4-4274-a1fc-a015eb17df82",
   "metadata": {},
   "outputs": [],
   "source": [
    "# Spilliting the data into training and testing dataset\n",
    "\n",
    "from sklearn.model_selection import train_test_split\n",
    "X_train, X_test, y_train, y_test = train_test_split(X, y, train_size = 0.8)"
   ]
  },
  {
   "cell_type": "code",
   "execution_count": 59,
   "id": "13d9e918-eaf1-46c5-b14a-feee1ba121c0",
   "metadata": {},
   "outputs": [],
   "source": [
    "# Spilliting the data into training and testing dataset\n",
    "\n",
    "from sklearn.model_selection import train_test_split\n",
    "X_train, X_test, y_train, y_test = train_test_split(X, y, train_size = 0.8)"
   ]
  },
  {
   "cell_type": "code",
   "execution_count": 60,
   "id": "213ed052-041e-42d1-82f4-4a7425020ff8",
   "metadata": {},
   "outputs": [],
   "source": [
    "# Regenerating the model once again\n",
    "\n",
    "model = KNeighborsClassifier()"
   ]
  },
  {
   "cell_type": "code",
   "execution_count": 61,
   "id": "e8fa5228-1aae-47e8-889d-7223fc663d29",
   "metadata": {},
   "outputs": [
    {
     "data": {
      "text/html": [
       "<style>#sk-container-id-1 {color: black;background-color: white;}#sk-container-id-1 pre{padding: 0;}#sk-container-id-1 div.sk-toggleable {background-color: white;}#sk-container-id-1 label.sk-toggleable__label {cursor: pointer;display: block;width: 100%;margin-bottom: 0;padding: 0.3em;box-sizing: border-box;text-align: center;}#sk-container-id-1 label.sk-toggleable__label-arrow:before {content: \"▸\";float: left;margin-right: 0.25em;color: #696969;}#sk-container-id-1 label.sk-toggleable__label-arrow:hover:before {color: black;}#sk-container-id-1 div.sk-estimator:hover label.sk-toggleable__label-arrow:before {color: black;}#sk-container-id-1 div.sk-toggleable__content {max-height: 0;max-width: 0;overflow: hidden;text-align: left;background-color: #f0f8ff;}#sk-container-id-1 div.sk-toggleable__content pre {margin: 0.2em;color: black;border-radius: 0.25em;background-color: #f0f8ff;}#sk-container-id-1 input.sk-toggleable__control:checked~div.sk-toggleable__content {max-height: 200px;max-width: 100%;overflow: auto;}#sk-container-id-1 input.sk-toggleable__control:checked~label.sk-toggleable__label-arrow:before {content: \"▾\";}#sk-container-id-1 div.sk-estimator input.sk-toggleable__control:checked~label.sk-toggleable__label {background-color: #d4ebff;}#sk-container-id-1 div.sk-label input.sk-toggleable__control:checked~label.sk-toggleable__label {background-color: #d4ebff;}#sk-container-id-1 input.sk-hidden--visually {border: 0;clip: rect(1px 1px 1px 1px);clip: rect(1px, 1px, 1px, 1px);height: 1px;margin: -1px;overflow: hidden;padding: 0;position: absolute;width: 1px;}#sk-container-id-1 div.sk-estimator {font-family: monospace;background-color: #f0f8ff;border: 1px dotted black;border-radius: 0.25em;box-sizing: border-box;margin-bottom: 0.5em;}#sk-container-id-1 div.sk-estimator:hover {background-color: #d4ebff;}#sk-container-id-1 div.sk-parallel-item::after {content: \"\";width: 100%;border-bottom: 1px solid gray;flex-grow: 1;}#sk-container-id-1 div.sk-label:hover label.sk-toggleable__label {background-color: #d4ebff;}#sk-container-id-1 div.sk-serial::before {content: \"\";position: absolute;border-left: 1px solid gray;box-sizing: border-box;top: 0;bottom: 0;left: 50%;z-index: 0;}#sk-container-id-1 div.sk-serial {display: flex;flex-direction: column;align-items: center;background-color: white;padding-right: 0.2em;padding-left: 0.2em;position: relative;}#sk-container-id-1 div.sk-item {position: relative;z-index: 1;}#sk-container-id-1 div.sk-parallel {display: flex;align-items: stretch;justify-content: center;background-color: white;position: relative;}#sk-container-id-1 div.sk-item::before, #sk-container-id-1 div.sk-parallel-item::before {content: \"\";position: absolute;border-left: 1px solid gray;box-sizing: border-box;top: 0;bottom: 0;left: 50%;z-index: -1;}#sk-container-id-1 div.sk-parallel-item {display: flex;flex-direction: column;z-index: 1;position: relative;background-color: white;}#sk-container-id-1 div.sk-parallel-item:first-child::after {align-self: flex-end;width: 50%;}#sk-container-id-1 div.sk-parallel-item:last-child::after {align-self: flex-start;width: 50%;}#sk-container-id-1 div.sk-parallel-item:only-child::after {width: 0;}#sk-container-id-1 div.sk-dashed-wrapped {border: 1px dashed gray;margin: 0 0.4em 0.5em 0.4em;box-sizing: border-box;padding-bottom: 0.4em;background-color: white;}#sk-container-id-1 div.sk-label label {font-family: monospace;font-weight: bold;display: inline-block;line-height: 1.2em;}#sk-container-id-1 div.sk-label-container {text-align: center;}#sk-container-id-1 div.sk-container {/* jupyter's `normalize.less` sets `[hidden] { display: none; }` but bootstrap.min.css set `[hidden] { display: none !important; }` so we also need the `!important` here to be able to override the default hidden behavior on the sphinx rendered scikit-learn.org. See: https://github.com/scikit-learn/scikit-learn/issues/21755 */display: inline-block !important;position: relative;}#sk-container-id-1 div.sk-text-repr-fallback {display: none;}</style><div id=\"sk-container-id-1\" class=\"sk-top-container\"><div class=\"sk-text-repr-fallback\"><pre>KNeighborsClassifier()</pre><b>In a Jupyter environment, please rerun this cell to show the HTML representation or trust the notebook. <br />On GitHub, the HTML representation is unable to render, please try loading this page with nbviewer.org.</b></div><div class=\"sk-container\" hidden><div class=\"sk-item\"><div class=\"sk-estimator sk-toggleable\"><input class=\"sk-toggleable__control sk-hidden--visually\" id=\"sk-estimator-id-1\" type=\"checkbox\" checked><label for=\"sk-estimator-id-1\" class=\"sk-toggleable__label sk-toggleable__label-arrow\">KNeighborsClassifier</label><div class=\"sk-toggleable__content\"><pre>KNeighborsClassifier()</pre></div></div></div></div></div>"
      ],
      "text/plain": [
       "KNeighborsClassifier()"
      ]
     },
     "execution_count": 61,
     "metadata": {},
     "output_type": "execute_result"
    }
   ],
   "source": [
    "model.fit(X_train, y_train)"
   ]
  },
  {
   "cell_type": "code",
   "execution_count": 62,
   "id": "0d76e8b8-2b98-4349-a4ab-5a2a1ae03882",
   "metadata": {},
   "outputs": [
    {
     "data": {
      "text/plain": [
       "array([[48,  2, 98],\n",
       "       [20,  2, 32],\n",
       "       [37,  2, 82],\n",
       "       ...,\n",
       "       [49,  2, 32],\n",
       "       [23,  2, 62],\n",
       "       [10,  2, 95]])"
      ]
     },
     "execution_count": 62,
     "metadata": {},
     "output_type": "execute_result"
    }
   ],
   "source": [
    "# Predicting the model again in numerical terms\n",
    "\n",
    "y_pred = model.predict(X_test)\n",
    "y_pred"
   ]
  },
  {
   "cell_type": "code",
   "execution_count": 63,
   "id": "2fda8e65-213b-49d4-ac2c-60ccae64ec05",
   "metadata": {},
   "outputs": [
    {
     "name": "stdout",
     "output_type": "stream",
     "text": [
      "mean_absolute_error :  4.99907335907336\n"
     ]
    }
   ],
   "source": [
    "# Checking the Mean Absolute error of whole model\n",
    "\n",
    "from sklearn.metrics import mean_absolute_error\n",
    "print(\"mean_absolute_error : \", mean_absolute_error(y_pred, y_test))"
   ]
  },
  {
   "cell_type": "code",
   "execution_count": 64,
   "id": "2d3e99f4-0197-44c2-864d-5b281854ce92",
   "metadata": {},
   "outputs": [
    {
     "name": "stdout",
     "output_type": "stream",
     "text": [
      "              precision    recall  f1-score   support\n",
      "\n",
      "           0       0.65      0.48      0.56       586\n",
      "           1       0.59      0.49      0.53       357\n",
      "           2       0.67      0.57      0.61        76\n",
      "           3       0.69      0.61      0.65       275\n",
      "           4       0.78      0.71      0.74       608\n",
      "           5       0.80      0.75      0.77       631\n",
      "           6       0.63      0.54      0.58        72\n",
      "           7       0.57      0.63      0.60       115\n",
      "           8       0.54      0.58      0.56        57\n",
      "           9       0.63      0.61      0.62       237\n",
      "          10       0.66      0.70      0.68       238\n",
      "          11       0.61      0.66      0.64        98\n",
      "          12       0.66      0.70      0.68       107\n",
      "          13       0.72      0.71      0.71       136\n",
      "          14       0.76      0.79      0.77       496\n",
      "          15       0.78      0.75      0.76      1191\n",
      "          16       0.73      0.77      0.75       466\n",
      "          17       0.65      0.75      0.70       122\n",
      "          18       0.55      0.75      0.64        61\n",
      "          19       0.69      0.71      0.70       130\n",
      "          20       0.78      0.82      0.80       527\n",
      "          21       0.63      0.75      0.69       110\n",
      "          22       0.61      0.80      0.69        94\n",
      "          23       0.82      0.70      0.75       303\n",
      "          24       0.73      0.72      0.72       318\n",
      "          25       0.00      0.00      0.00         2\n",
      "          26       0.80      0.68      0.74       123\n",
      "          27       0.73      0.78      0.76       343\n",
      "          28       0.76      0.74      0.75       389\n",
      "          29       0.78      0.80      0.79       100\n",
      "          30       0.76      0.72      0.74       337\n",
      "          31       0.75      0.74      0.75       157\n",
      "          32       0.79      0.73      0.76       380\n",
      "          33       0.73      0.69      0.71       280\n",
      "          34       0.75      0.73      0.74       355\n",
      "          35       0.78      0.78      0.78       253\n",
      "          36       0.75      0.77      0.76       360\n",
      "          37       0.73      0.77      0.75       238\n",
      "          38       0.74      0.75      0.75       105\n",
      "          39       0.82      0.77      0.79       116\n",
      "          40       0.85      0.75      0.80       110\n",
      "          41       0.76      0.78      0.77        87\n",
      "          42       0.00      0.00      0.00         0\n",
      "          43       0.72      0.78      0.75       229\n",
      "          44       0.76      0.76      0.76       145\n",
      "          45       0.72      0.84      0.77       379\n",
      "          46       0.74      0.77      0.75       559\n",
      "          47       0.81      0.75      0.78        93\n",
      "          48       0.71      0.73      0.72       213\n",
      "          49       0.67      0.69      0.68       169\n",
      "          50       0.00      0.00      0.00         0\n",
      "          51       0.00      0.00      0.00        10\n",
      "          52       0.00      0.00      0.00         1\n",
      "          53       0.00      0.00      0.00         6\n",
      "\n",
      "    accuracy                           0.72     12950\n",
      "   macro avg       0.64      0.64      0.63     12950\n",
      "weighted avg       0.73      0.72      0.72     12950\n",
      "\n"
     ]
    },
    {
     "name": "stderr",
     "output_type": "stream",
     "text": [
      "C:\\ProgramData\\anaconda3\\Lib\\site-packages\\sklearn\\metrics\\_classification.py:1344: UndefinedMetricWarning: Recall and F-score are ill-defined and being set to 0.0 in labels with no true samples. Use `zero_division` parameter to control this behavior.\n",
      "  _warn_prf(average, modifier, msg_start, len(result))\n",
      "C:\\ProgramData\\anaconda3\\Lib\\site-packages\\sklearn\\metrics\\_classification.py:1344: UndefinedMetricWarning: Recall and F-score are ill-defined and being set to 0.0 in labels with no true samples. Use `zero_division` parameter to control this behavior.\n",
      "  _warn_prf(average, modifier, msg_start, len(result))\n",
      "C:\\ProgramData\\anaconda3\\Lib\\site-packages\\sklearn\\metrics\\_classification.py:1344: UndefinedMetricWarning: Recall and F-score are ill-defined and being set to 0.0 in labels with no true samples. Use `zero_division` parameter to control this behavior.\n",
      "  _warn_prf(average, modifier, msg_start, len(result))\n"
     ]
    }
   ],
   "source": [
    "# Accuracy for Institute short\n",
    "\n",
    "from sklearn.metrics import classification_report \n",
    "y_pred1 = y_pred[:,0]\n",
    "y_test1 = y_test.loc[:,\"institute_short\"]\n",
    "print(classification_report(y_pred1, y_test1))"
   ]
  },
  {
   "cell_type": "code",
   "execution_count": 65,
   "id": "bfb4628e-2da4-4da6-9c50-e5a2c22bff38",
   "metadata": {},
   "outputs": [
    {
     "data": {
      "text/plain": [
       "4.119150579150579"
      ]
     },
     "execution_count": 65,
     "metadata": {},
     "output_type": "execute_result"
    }
   ],
   "source": [
    "mean_absolute_error(y_pred1, y_test1)"
   ]
  },
  {
   "cell_type": "code",
   "execution_count": 66,
   "id": "30c8deff-ddd5-4800-9b86-99b10d3cc50a",
   "metadata": {},
   "outputs": [
    {
     "data": {
      "text/plain": [
       "0.7208494208494208"
      ]
     },
     "execution_count": 66,
     "metadata": {},
     "output_type": "execute_result"
    }
   ],
   "source": [
    "from sklearn.metrics import accuracy_score\n",
    "Accuracy1 = accuracy_score(y_pred1, y_test1)\n",
    "Accuracy1"
   ]
  },
  {
   "cell_type": "code",
   "execution_count": 67,
   "id": "089de4d5-624e-400c-99cc-3c1ee3153499",
   "metadata": {},
   "outputs": [
    {
     "name": "stdout",
     "output_type": "stream",
     "text": [
      "              precision    recall  f1-score   support\n",
      "\n",
      "           0       0.73      0.82      0.77       225\n",
      "           1       0.74      0.93      0.82        27\n",
      "           2       0.97      0.94      0.95     10753\n",
      "           3       0.69      0.82      0.75       997\n",
      "           4       0.97      0.85      0.91       151\n",
      "           5       0.83      0.82      0.83       454\n",
      "           6       0.75      0.72      0.73       167\n",
      "           7       0.64      0.81      0.71        93\n",
      "           8       0.42      0.82      0.56        83\n",
      "\n",
      "    accuracy                           0.92     12950\n",
      "   macro avg       0.75      0.84      0.78     12950\n",
      "weighted avg       0.93      0.92      0.92     12950\n",
      "\n"
     ]
    }
   ],
   "source": [
    "# Accuracy for Program Name\n",
    "\n",
    "from sklearn.metrics import classification_report \n",
    "y_pred2 = y_pred[:,1]\n",
    "y_test2 = y_test.loc[:,\"degree_short\"]\n",
    "print(classification_report(y_pred2, y_test2))"
   ]
  },
  {
   "cell_type": "code",
   "execution_count": 68,
   "id": "36a318e2-369d-4251-ac21-9ef18a7feeab",
   "metadata": {},
   "outputs": [
    {
     "data": {
      "text/plain": [
       "0.18934362934362933"
      ]
     },
     "execution_count": 68,
     "metadata": {},
     "output_type": "execute_result"
    }
   ],
   "source": [
    "mean_absolute_error(y_pred2, y_test2)"
   ]
  },
  {
   "cell_type": "code",
   "execution_count": 69,
   "id": "912619ae-60bb-4f90-9c8e-59db50d0fbe2",
   "metadata": {},
   "outputs": [
    {
     "data": {
      "text/plain": [
       "0.9196138996138996"
      ]
     },
     "execution_count": 69,
     "metadata": {},
     "output_type": "execute_result"
    }
   ],
   "source": [
    "from sklearn.metrics import accuracy_score\n",
    "Accuracy2 = accuracy_score(y_pred2, y_test2)\n",
    "Accuracy2"
   ]
  },
  {
   "cell_type": "code",
   "execution_count": 70,
   "id": "728c6ece-b5cc-4050-b3ab-72a582561089",
   "metadata": {},
   "outputs": [
    {
     "name": "stdout",
     "output_type": "stream",
     "text": [
      "              precision    recall  f1-score   support\n",
      "\n",
      "           0       0.72      0.55      0.63       247\n",
      "           1       0.80      0.59      0.68        34\n",
      "           2       0.88      0.64      0.74        33\n",
      "           3       0.00      0.00      0.00         3\n",
      "           4       0.78      0.48      0.59        61\n",
      "           5       0.60      0.43      0.50        21\n",
      "           6       0.00      0.00      0.00         2\n",
      "           7       0.74      0.62      0.67       301\n",
      "           8       0.85      0.69      0.76        48\n",
      "           9       0.88      0.62      0.73        24\n",
      "          10       0.85      0.63      0.72        35\n",
      "          11       0.65      0.56      0.60        36\n",
      "          12       0.66      0.52      0.58        52\n",
      "          13       0.65      0.60      0.62       202\n",
      "          14       0.00      0.00      0.00         3\n",
      "          15       0.50      0.64      0.56        11\n",
      "          16       0.00      0.00      0.00         1\n",
      "          17       0.68      0.76      0.72        17\n",
      "          18       0.78      0.53      0.63        40\n",
      "          19       0.74      0.67      0.70        30\n",
      "          20       0.77      0.61      0.68        38\n",
      "          21       0.83      0.62      0.71         8\n",
      "          22       0.93      0.80      0.86        49\n",
      "          23       0.92      0.48      0.63        23\n",
      "          24       0.80      0.65      0.72       127\n",
      "          25       1.00      0.78      0.88         9\n",
      "          26       0.56      0.51      0.54        74\n",
      "          27       0.70      0.58      0.64        12\n",
      "          28       0.73      0.69      0.71      1021\n",
      "          29       0.55      0.73      0.63        15\n",
      "          30       1.00      0.64      0.78        28\n",
      "          31       0.72      0.69      0.70       157\n",
      "          32       0.74      0.73      0.74      1297\n",
      "          33       0.75      0.94      0.83        16\n",
      "          34       0.50      0.67      0.57         6\n",
      "          35       0.80      0.71      0.75        17\n",
      "          37       0.65      0.79      0.71        19\n",
      "          38       0.92      0.71      0.80        17\n",
      "          39       1.00      0.70      0.82        10\n",
      "          40       1.00      0.79      0.88        14\n",
      "          41       0.72      0.67      0.70        46\n",
      "          42       0.76      0.73      0.74      1810\n",
      "          43       0.91      0.87      0.89        23\n",
      "          44       0.85      0.73      0.79        15\n",
      "          45       0.69      0.91      0.78        32\n",
      "          46       0.80      0.80      0.80       128\n",
      "          47       0.73      0.73      0.73      1128\n",
      "          48       0.76      0.79      0.78        33\n",
      "          49       0.83      0.45      0.59        11\n",
      "          50       0.00      0.00      0.00         0\n",
      "          51       0.00      0.00      0.00         0\n",
      "          52       0.00      0.00      0.00         1\n",
      "          53       0.45      0.62      0.53        16\n",
      "          54       0.62      0.64      0.63        28\n",
      "          55       0.76      0.78      0.77       264\n",
      "          56       0.62      0.71      0.67        14\n",
      "          57       0.74      0.71      0.73       940\n",
      "          58       0.71      0.81      0.75        36\n",
      "          59       0.82      0.84      0.83        37\n",
      "          60       0.00      0.00      0.00         0\n",
      "          61       0.68      0.62      0.65        21\n",
      "          62       0.65      0.67      0.66        96\n",
      "          63       1.00      0.75      0.86        36\n",
      "          64       0.86      0.89      0.88        28\n",
      "          65       0.68      0.79      0.73        33\n",
      "          66       0.70      0.81      0.75       285\n",
      "          67       0.00      0.00      0.00         0\n",
      "          68       0.62      0.94      0.75        16\n",
      "          69       0.94      0.91      0.92        33\n",
      "          70       0.52      0.73      0.61        15\n",
      "          71       0.90      0.86      0.88        22\n",
      "          72       0.78      0.78      0.78        27\n",
      "          73       0.50      0.77      0.61        22\n",
      "          74       0.76      0.90      0.82        31\n",
      "          75       0.77      0.92      0.84        25\n",
      "          76       0.76      0.83      0.79        23\n",
      "          77       0.87      0.93      0.90        28\n",
      "          78       0.62      0.71      0.66        34\n",
      "          79       0.83      0.74      0.78        27\n",
      "          80       0.65      0.87      0.74        15\n",
      "          81       0.00      0.00      0.00         0\n",
      "          82       0.68      0.87      0.76       126\n",
      "          83       0.81      0.81      0.81        32\n",
      "          84       0.55      0.75      0.63        32\n",
      "          85       0.71      0.71      0.71        14\n",
      "          86       0.76      0.76      0.76        34\n",
      "          87       0.81      0.88      0.85        25\n",
      "          88       0.00      0.00      0.00         0\n",
      "          89       0.92      0.87      0.90        55\n",
      "          90       0.56      0.75      0.64        76\n",
      "          91       0.69      0.71      0.70        49\n",
      "          92       0.92      0.85      0.88        13\n",
      "          93       0.60      0.80      0.69        15\n",
      "          94       1.00      0.94      0.97        32\n",
      "          95       0.70      0.73      0.72       235\n",
      "          96       1.00      0.75      0.86        20\n",
      "          97       0.69      0.81      0.74        36\n",
      "          98       0.70      0.74      0.72      1279\n",
      "          99       0.57      0.89      0.70         9\n",
      "         100       0.62      0.87      0.72        15\n",
      "         101       0.70      0.94      0.80        17\n",
      "         102       0.00      0.00      0.00         0\n",
      "         103       0.67      1.00      0.80        10\n",
      "         104       0.74      0.87      0.80        30\n",
      "         105       0.69      0.73      0.71        33\n",
      "         106       0.83      0.83      0.83        23\n",
      "         107       0.69      0.81      0.75        47\n",
      "         108       0.00      0.00      0.00         0\n",
      "         109       0.00      0.00      0.00         0\n",
      "         110       0.71      0.79      0.75       389\n",
      "         111       0.00      0.00      0.00         0\n",
      "         112       0.00      0.00      0.00         0\n",
      "         113       0.89      0.73      0.80        22\n",
      "         114       0.68      0.79      0.73       174\n",
      "         115       0.40      0.67      0.50         9\n",
      "         116       0.69      0.90      0.78        20\n",
      "         117       0.62      0.86      0.72        29\n",
      "         118       0.80      0.84      0.82        63\n",
      "         119       0.39      0.58      0.47        12\n",
      "         120       0.52      0.68      0.59        25\n",
      "         121       0.69      0.75      0.72       117\n",
      "         122       0.74      0.83      0.78        30\n",
      "         123       0.00      0.00      0.00         0\n",
      "         124       0.74      0.80      0.77        64\n",
      "         125       0.77      0.88      0.82       112\n",
      "         126       0.00      0.00      0.00         0\n",
      "         127       1.00      0.77      0.87        35\n",
      "         128       0.80      0.82      0.81        55\n",
      "\n",
      "    accuracy                           0.73     12950\n",
      "   macro avg       0.64      0.64      0.63     12950\n",
      "weighted avg       0.73      0.73      0.73     12950\n",
      "\n"
     ]
    },
    {
     "name": "stderr",
     "output_type": "stream",
     "text": [
      "C:\\ProgramData\\anaconda3\\Lib\\site-packages\\sklearn\\metrics\\_classification.py:1344: UndefinedMetricWarning: Precision and F-score are ill-defined and being set to 0.0 in labels with no predicted samples. Use `zero_division` parameter to control this behavior.\n",
      "  _warn_prf(average, modifier, msg_start, len(result))\n",
      "C:\\ProgramData\\anaconda3\\Lib\\site-packages\\sklearn\\metrics\\_classification.py:1344: UndefinedMetricWarning: Recall and F-score are ill-defined and being set to 0.0 in labels with no true samples. Use `zero_division` parameter to control this behavior.\n",
      "  _warn_prf(average, modifier, msg_start, len(result))\n",
      "C:\\ProgramData\\anaconda3\\Lib\\site-packages\\sklearn\\metrics\\_classification.py:1344: UndefinedMetricWarning: Precision and F-score are ill-defined and being set to 0.0 in labels with no predicted samples. Use `zero_division` parameter to control this behavior.\n",
      "  _warn_prf(average, modifier, msg_start, len(result))\n",
      "C:\\ProgramData\\anaconda3\\Lib\\site-packages\\sklearn\\metrics\\_classification.py:1344: UndefinedMetricWarning: Recall and F-score are ill-defined and being set to 0.0 in labels with no true samples. Use `zero_division` parameter to control this behavior.\n",
      "  _warn_prf(average, modifier, msg_start, len(result))\n",
      "C:\\ProgramData\\anaconda3\\Lib\\site-packages\\sklearn\\metrics\\_classification.py:1344: UndefinedMetricWarning: Precision and F-score are ill-defined and being set to 0.0 in labels with no predicted samples. Use `zero_division` parameter to control this behavior.\n",
      "  _warn_prf(average, modifier, msg_start, len(result))\n",
      "C:\\ProgramData\\anaconda3\\Lib\\site-packages\\sklearn\\metrics\\_classification.py:1344: UndefinedMetricWarning: Recall and F-score are ill-defined and being set to 0.0 in labels with no true samples. Use `zero_division` parameter to control this behavior.\n",
      "  _warn_prf(average, modifier, msg_start, len(result))\n"
     ]
    }
   ],
   "source": [
    "# Accuracy for Degree \n",
    "\n",
    "from sklearn.metrics import classification_report \n",
    "y_pred3 = y_pred[:,2]\n",
    "y_test3 = y_test.loc[:,\"program_name\"]\n",
    "print(classification_report(y_pred3, y_test3))"
   ]
  },
  {
   "cell_type": "code",
   "execution_count": 71,
   "id": "e845305d-d238-42b0-8ea0-0ec145f53f50",
   "metadata": {},
   "outputs": [
    {
     "data": {
      "text/plain": [
       "10.688725868725868"
      ]
     },
     "execution_count": 71,
     "metadata": {},
     "output_type": "execute_result"
    }
   ],
   "source": [
    "mean_absolute_error(y_pred3, y_test3)"
   ]
  },
  {
   "cell_type": "code",
   "execution_count": 72,
   "id": "cc052bde-df1d-41e1-b2fd-49fad8f0d9a2",
   "metadata": {},
   "outputs": [
    {
     "data": {
      "text/plain": [
       "0.7272586872586873"
      ]
     },
     "execution_count": 72,
     "metadata": {},
     "output_type": "execute_result"
    }
   ],
   "source": [
    "from sklearn.metrics import accuracy_score\n",
    "Accuracy3 = accuracy_score(y_pred3, y_test3)\n",
    "Accuracy3"
   ]
  },
  {
   "cell_type": "code",
   "execution_count": 73,
   "id": "33444679-e2a4-44a5-b561-529f6755c359",
   "metadata": {},
   "outputs": [
    {
     "data": {
      "text/plain": [
       "0.7892406692406692"
      ]
     },
     "execution_count": 73,
     "metadata": {},
     "output_type": "execute_result"
    }
   ],
   "source": [
    "# total accuracy of the model\n",
    "\n",
    "Mean_Accuracy = (Accuracy1 + Accuracy2 + Accuracy3) / 3\n",
    "Mean_Accuracy"
   ]
  },
  {
   "cell_type": "markdown",
   "id": "77ecf547-a06f-43c6-af10-c328216d1734",
   "metadata": {},
   "source": [
    "**<span style=\"color:#006600;\">Here we evaluate our model and find that it is really good and a realistic model. Firstly, we extract the individual Accuracy of the target data and then conclude the mean accuracy of the target data. </span>**\n",
    "\n",
    "**<span style=\"color:#fffff;\">Accuracy of Institute Name - 75.3%</span>**\n",
    "\n",
    "**<span style=\"color:#fffff;\">Accuracy of Program Name - 75.6%</span>**\n",
    "\n",
    "**<span style=\"color:#fffff;\">Accuracy of degree - 93.8%</span>**\n",
    "\n",
    "**<span style=\"color:#006600;\">After calculating the individual accuracy, we will find out the total or mean accuracy of the model.</span>**\n",
    "\n",
    "**<span style=\"color:#fffff;\">Accuracy of the Model - 81.6%</span>**\n",
    "\n",
    "***"
   ]
  },
  {
   "cell_type": "markdown",
   "id": "789c59ca-a45d-4009-8091-1c5db65bd32b",
   "metadata": {},
   "source": [
    "## **<span style=\"color:#ff3385;\">🔮 Prediction of Colleges</span>**\n",
    "\n",
    "The Colleges are predicted by the given featured dataset in which feature like Institute type, Round Number, Quota, Category, Opening Rank and Closing Rank is calculated to find the College, Branch and Degree."
   ]
  },
  {
   "cell_type": "code",
   "execution_count": 74,
   "id": "7f8537a5-9fb7-48c0-be2c-186b8b84e577",
   "metadata": {},
   "outputs": [
    {
     "data": {
      "text/html": [
       "<div>\n",
       "<style scoped>\n",
       "    .dataframe tbody tr th:only-of-type {\n",
       "        vertical-align: middle;\n",
       "    }\n",
       "\n",
       "    .dataframe tbody tr th {\n",
       "        vertical-align: top;\n",
       "    }\n",
       "\n",
       "    .dataframe thead th {\n",
       "        text-align: right;\n",
       "    }\n",
       "</style>\n",
       "<table border=\"1\" class=\"dataframe\">\n",
       "  <thead>\n",
       "    <tr style=\"text-align: right;\">\n",
       "      <th></th>\n",
       "      <th>Unnamed: 0</th>\n",
       "      <th>year</th>\n",
       "      <th>institute_type</th>\n",
       "      <th>round_no</th>\n",
       "      <th>quota</th>\n",
       "      <th>pool</th>\n",
       "      <th>institute_short</th>\n",
       "      <th>program_name</th>\n",
       "      <th>program_duration</th>\n",
       "      <th>degree_short</th>\n",
       "      <th>category</th>\n",
       "      <th>opening_rank</th>\n",
       "      <th>closing_rank</th>\n",
       "      <th>is_preparatory</th>\n",
       "    </tr>\n",
       "  </thead>\n",
       "  <tbody>\n",
       "    <tr>\n",
       "      <th>0</th>\n",
       "      <td>0</td>\n",
       "      <td>2016</td>\n",
       "      <td>IIT</td>\n",
       "      <td>6</td>\n",
       "      <td>AI</td>\n",
       "      <td>Gender-Neutral</td>\n",
       "      <td>IIT-Bombay</td>\n",
       "      <td>Aerospace Engineering</td>\n",
       "      <td>4 Years</td>\n",
       "      <td>B.Tech</td>\n",
       "      <td>GEN</td>\n",
       "      <td>838</td>\n",
       "      <td>1841</td>\n",
       "      <td>0</td>\n",
       "    </tr>\n",
       "    <tr>\n",
       "      <th>1</th>\n",
       "      <td>1</td>\n",
       "      <td>2016</td>\n",
       "      <td>IIT</td>\n",
       "      <td>6</td>\n",
       "      <td>AI</td>\n",
       "      <td>Gender-Neutral</td>\n",
       "      <td>IIT-Bombay</td>\n",
       "      <td>Aerospace Engineering</td>\n",
       "      <td>4 Years</td>\n",
       "      <td>B.Tech</td>\n",
       "      <td>OBC-NCL</td>\n",
       "      <td>408</td>\n",
       "      <td>1098</td>\n",
       "      <td>0</td>\n",
       "    </tr>\n",
       "    <tr>\n",
       "      <th>2</th>\n",
       "      <td>2</td>\n",
       "      <td>2016</td>\n",
       "      <td>IIT</td>\n",
       "      <td>6</td>\n",
       "      <td>AI</td>\n",
       "      <td>Gender-Neutral</td>\n",
       "      <td>IIT-Bombay</td>\n",
       "      <td>Aerospace Engineering</td>\n",
       "      <td>4 Years</td>\n",
       "      <td>B.Tech</td>\n",
       "      <td>SC</td>\n",
       "      <td>297</td>\n",
       "      <td>468</td>\n",
       "      <td>0</td>\n",
       "    </tr>\n",
       "    <tr>\n",
       "      <th>3</th>\n",
       "      <td>3</td>\n",
       "      <td>2016</td>\n",
       "      <td>IIT</td>\n",
       "      <td>6</td>\n",
       "      <td>AI</td>\n",
       "      <td>Gender-Neutral</td>\n",
       "      <td>IIT-Bombay</td>\n",
       "      <td>Aerospace Engineering</td>\n",
       "      <td>4 Years</td>\n",
       "      <td>B.Tech</td>\n",
       "      <td>ST</td>\n",
       "      <td>79</td>\n",
       "      <td>145</td>\n",
       "      <td>0</td>\n",
       "    </tr>\n",
       "    <tr>\n",
       "      <th>4</th>\n",
       "      <td>4</td>\n",
       "      <td>2016</td>\n",
       "      <td>IIT</td>\n",
       "      <td>6</td>\n",
       "      <td>AI</td>\n",
       "      <td>Gender-Neutral</td>\n",
       "      <td>IIT-Bombay</td>\n",
       "      <td>Aerospace Engineering</td>\n",
       "      <td>4 Years</td>\n",
       "      <td>B.Tech</td>\n",
       "      <td>GEN-PWD</td>\n",
       "      <td>94</td>\n",
       "      <td>94</td>\n",
       "      <td>0</td>\n",
       "    </tr>\n",
       "  </tbody>\n",
       "</table>\n",
       "</div>"
      ],
      "text/plain": [
       "   Unnamed: 0  year institute_type  round_no quota            pool  \\\n",
       "0           0  2016            IIT         6    AI  Gender-Neutral   \n",
       "1           1  2016            IIT         6    AI  Gender-Neutral   \n",
       "2           2  2016            IIT         6    AI  Gender-Neutral   \n",
       "3           3  2016            IIT         6    AI  Gender-Neutral   \n",
       "4           4  2016            IIT         6    AI  Gender-Neutral   \n",
       "\n",
       "  institute_short           program_name program_duration degree_short  \\\n",
       "0      IIT-Bombay  Aerospace Engineering          4 Years       B.Tech   \n",
       "1      IIT-Bombay  Aerospace Engineering          4 Years       B.Tech   \n",
       "2      IIT-Bombay  Aerospace Engineering          4 Years       B.Tech   \n",
       "3      IIT-Bombay  Aerospace Engineering          4 Years       B.Tech   \n",
       "4      IIT-Bombay  Aerospace Engineering          4 Years       B.Tech   \n",
       "\n",
       "  category  opening_rank  closing_rank  is_preparatory  \n",
       "0      GEN           838          1841               0  \n",
       "1  OBC-NCL           408          1098               0  \n",
       "2       SC           297           468               0  \n",
       "3       ST            79           145               0  \n",
       "4  GEN-PWD            94            94               0  "
      ]
     },
     "execution_count": 74,
     "metadata": {},
     "output_type": "execute_result"
    }
   ],
   "source": [
    "pred_College = pd.read_csv(\"iit-and-nit-colleges-admission-criteria-version-2.csv\")\n",
    "pred_College.head()"
   ]
  },
  {
   "cell_type": "markdown",
   "id": "ba1b01e7-5f1c-4a5b-bff9-b1958c365c43",
   "metadata": {},
   "source": [
    "## **<span style=\"color:#a300cc;\">🔁 Converting object values into numerical form</span>**\n",
    "\n",
    "**institute_type** - IIT : 0, NIT : 1\n",
    "\n",
    "**Quota** :-\n",
    "\n",
    "AI : All-India - 0\n",
    "\n",
    "HS : Home-State - 3\n",
    "\n",
    "OS : Other-State - 6\n",
    "\n",
    "AP : Andhra Pradesh - 1\n",
    "\n",
    "GO : Goa - 2\n",
    "\n",
    "JK : Jammu & Kashmir - 4\n",
    "\n",
    "LA : Ladakh - 5\n",
    "\n",
    "**Pool** - Gender-Neutral : 0, Female-only : 1\n",
    "\n",
    "**Category** :-\n",
    "\n",
    "GEN : General - 0\n",
    "\n",
    "OBC-NCL : Other Backward Classes-Non Creamy Layer - 4\n",
    "\n",
    "SC : Scheduled Castes - 6\n",
    "\n",
    "ST : Scheduled Tribes - 8\n",
    "\n",
    "GEN-PWD : General & Persons with Disabilities - 3\n",
    "\n",
    "OBC-NCL-PWD : Other Backward Classes & Persons with Disabilities - 5\n",
    "\n",
    "SC-PWD : Scheduled Castes & Persons with Disabilities - 7\n",
    "\n",
    "ST-PWD : Scheduled Tribes & Persons with Disabilities - 9\n",
    "\n",
    "GEN-EWS : General & Economically Weaker Section - 1\n",
    "\n",
    "GEN-EWS-PWD : General & Economically Weaker Section & Persons with Disability - 2"
   ]
  },
  {
   "cell_type": "code",
   "execution_count": 75,
   "id": "ca3e4d9a-e748-49ce-b3c7-006bfc045a3d",
   "metadata": {},
   "outputs": [
    {
     "data": {
      "text/plain": [
       "array([0, 1], dtype=int64)"
      ]
     },
     "execution_count": 75,
     "metadata": {},
     "output_type": "execute_result"
    }
   ],
   "source": [
    "# Changing Institute type\n",
    "\n",
    "pred_College['institute_type'] = [0 if x == 'IIT' else 1 for x in pred_College['institute_type']]\n",
    "pred_College['institute_type'].unique()"
   ]
  },
  {
   "cell_type": "code",
   "execution_count": 76,
   "id": "b7567ef4-5f7c-4917-9e46-54d08ae0b759",
   "metadata": {},
   "outputs": [
    {
     "data": {
      "text/plain": [
       "array([0, 3, 6, 1, 2, 4, 5])"
      ]
     },
     "execution_count": 76,
     "metadata": {},
     "output_type": "execute_result"
    }
   ],
   "source": [
    "# Labeling the quota values\n",
    "\n",
    "le = LabelEncoder()\n",
    "pred_College['quota'] = le.fit_transform(pred_College['quota'])\n",
    "pred_College['quota'].unique()"
   ]
  },
  {
   "cell_type": "code",
   "execution_count": 77,
   "id": "102fdcec-db73-4577-a3bf-5ca6fc209231",
   "metadata": {},
   "outputs": [
    {
     "data": {
      "text/plain": [
       "array([0, 1], dtype=int64)"
      ]
     },
     "execution_count": 77,
     "metadata": {},
     "output_type": "execute_result"
    }
   ],
   "source": [
    "# changing the pool values\n",
    "\n",
    "pred_College['pool'] = [0 if x == 'Gender-Neutral' else 1 for x in pred_College['pool']]\n",
    "pred_College['pool'].unique()"
   ]
  },
  {
   "cell_type": "code",
   "execution_count": 78,
   "id": "cc65b794-9858-46eb-8e2b-6a09eddc3ede",
   "metadata": {},
   "outputs": [
    {
     "data": {
      "text/plain": [
       "array([0, 4, 6, 8, 3, 5, 7, 9, 1, 2])"
      ]
     },
     "execution_count": 78,
     "metadata": {},
     "output_type": "execute_result"
    }
   ],
   "source": [
    "# Labeling the categories\n",
    "\n",
    "pred_College['category']= le.fit_transform(pred_College['category'])\n",
    "pred_College['category'].unique()"
   ]
  },
  {
   "cell_type": "code",
   "execution_count": 79,
   "id": "4ca53946-7625-4609-b9d9-bf255fab3b13",
   "metadata": {},
   "outputs": [],
   "source": [
    "# Selecting the target data\n",
    "\n",
    "y1 = pred_College[['institute_short', 'degree_short', 'program_name']]"
   ]
  },
  {
   "cell_type": "code",
   "execution_count": 80,
   "id": "c1dfb9d7-9e82-427d-98fe-a923b7aecf76",
   "metadata": {},
   "outputs": [],
   "source": [
    "# Selecting the featured data\n",
    "\n",
    "X1 = pred_College[['category', 'quota', 'pool', 'institute_type', 'round_no',\n",
    "       'opening_rank', 'closing_rank']]"
   ]
  },
  {
   "cell_type": "markdown",
   "id": "d1240629-8e99-4075-bb30-7dcd76f35c36",
   "metadata": {},
   "source": [
    "## **<span style=\"color:#ff3385;\">💔 Splitting the training and testing data </span>**"
   ]
  },
  {
   "cell_type": "code",
   "execution_count": 81,
   "id": "9f53576e-5ae1-4da4-bcea-52a167765b13",
   "metadata": {},
   "outputs": [],
   "source": [
    "# Spilliting the data into training and testing dataset\n",
    "\n",
    "from sklearn.model_selection import train_test_split\n",
    "X1_train, X1_test, y1_train, y1_test = train_test_split(X1, y1, train_size = 0.8)"
   ]
  },
  {
   "cell_type": "code",
   "execution_count": 82,
   "id": "7e1dcdef-1d30-4f20-9d49-9bc37d3e4ebd",
   "metadata": {},
   "outputs": [
    {
     "data": {
      "text/plain": [
       "array([[51796, 7],\n",
       "       [12950, 7],\n",
       "       [51796, 3],\n",
       "       [12950, 3]], dtype=object)"
      ]
     },
     "execution_count": 82,
     "metadata": {},
     "output_type": "execute_result"
    }
   ],
   "source": [
    "a1 = np.array([X1_train.shape, X1_test.shape, y1_train.shape, y1_test.shape], dtype = 'object')\n",
    "a1"
   ]
  },
  {
   "cell_type": "code",
   "execution_count": 83,
   "id": "f6eb4319-de86-44c9-91c4-d06fe895c116",
   "metadata": {},
   "outputs": [],
   "source": [
    "# Importing library for mdoel generation\n",
    "\n",
    "from sklearn.neighbors import KNeighborsClassifier\n",
    "model1 = KNeighborsClassifier()"
   ]
  },
  {
   "cell_type": "code",
   "execution_count": 84,
   "id": "c1a717e6-e9c2-43df-9945-834a96832073",
   "metadata": {},
   "outputs": [],
   "source": [
    "# Importing library for mdoel generation\n",
    "\n",
    "from sklearn.neighbors import KNeighborsClassifier\n",
    "model1 = KNeighborsClassifier()"
   ]
  },
  {
   "cell_type": "code",
   "execution_count": 85,
   "id": "f56b0f31-3c26-40cc-ad84-0c7882b5c784",
   "metadata": {},
   "outputs": [
    {
     "data": {
      "text/html": [
       "<style>#sk-container-id-2 {color: black;background-color: white;}#sk-container-id-2 pre{padding: 0;}#sk-container-id-2 div.sk-toggleable {background-color: white;}#sk-container-id-2 label.sk-toggleable__label {cursor: pointer;display: block;width: 100%;margin-bottom: 0;padding: 0.3em;box-sizing: border-box;text-align: center;}#sk-container-id-2 label.sk-toggleable__label-arrow:before {content: \"▸\";float: left;margin-right: 0.25em;color: #696969;}#sk-container-id-2 label.sk-toggleable__label-arrow:hover:before {color: black;}#sk-container-id-2 div.sk-estimator:hover label.sk-toggleable__label-arrow:before {color: black;}#sk-container-id-2 div.sk-toggleable__content {max-height: 0;max-width: 0;overflow: hidden;text-align: left;background-color: #f0f8ff;}#sk-container-id-2 div.sk-toggleable__content pre {margin: 0.2em;color: black;border-radius: 0.25em;background-color: #f0f8ff;}#sk-container-id-2 input.sk-toggleable__control:checked~div.sk-toggleable__content {max-height: 200px;max-width: 100%;overflow: auto;}#sk-container-id-2 input.sk-toggleable__control:checked~label.sk-toggleable__label-arrow:before {content: \"▾\";}#sk-container-id-2 div.sk-estimator input.sk-toggleable__control:checked~label.sk-toggleable__label {background-color: #d4ebff;}#sk-container-id-2 div.sk-label input.sk-toggleable__control:checked~label.sk-toggleable__label {background-color: #d4ebff;}#sk-container-id-2 input.sk-hidden--visually {border: 0;clip: rect(1px 1px 1px 1px);clip: rect(1px, 1px, 1px, 1px);height: 1px;margin: -1px;overflow: hidden;padding: 0;position: absolute;width: 1px;}#sk-container-id-2 div.sk-estimator {font-family: monospace;background-color: #f0f8ff;border: 1px dotted black;border-radius: 0.25em;box-sizing: border-box;margin-bottom: 0.5em;}#sk-container-id-2 div.sk-estimator:hover {background-color: #d4ebff;}#sk-container-id-2 div.sk-parallel-item::after {content: \"\";width: 100%;border-bottom: 1px solid gray;flex-grow: 1;}#sk-container-id-2 div.sk-label:hover label.sk-toggleable__label {background-color: #d4ebff;}#sk-container-id-2 div.sk-serial::before {content: \"\";position: absolute;border-left: 1px solid gray;box-sizing: border-box;top: 0;bottom: 0;left: 50%;z-index: 0;}#sk-container-id-2 div.sk-serial {display: flex;flex-direction: column;align-items: center;background-color: white;padding-right: 0.2em;padding-left: 0.2em;position: relative;}#sk-container-id-2 div.sk-item {position: relative;z-index: 1;}#sk-container-id-2 div.sk-parallel {display: flex;align-items: stretch;justify-content: center;background-color: white;position: relative;}#sk-container-id-2 div.sk-item::before, #sk-container-id-2 div.sk-parallel-item::before {content: \"\";position: absolute;border-left: 1px solid gray;box-sizing: border-box;top: 0;bottom: 0;left: 50%;z-index: -1;}#sk-container-id-2 div.sk-parallel-item {display: flex;flex-direction: column;z-index: 1;position: relative;background-color: white;}#sk-container-id-2 div.sk-parallel-item:first-child::after {align-self: flex-end;width: 50%;}#sk-container-id-2 div.sk-parallel-item:last-child::after {align-self: flex-start;width: 50%;}#sk-container-id-2 div.sk-parallel-item:only-child::after {width: 0;}#sk-container-id-2 div.sk-dashed-wrapped {border: 1px dashed gray;margin: 0 0.4em 0.5em 0.4em;box-sizing: border-box;padding-bottom: 0.4em;background-color: white;}#sk-container-id-2 div.sk-label label {font-family: monospace;font-weight: bold;display: inline-block;line-height: 1.2em;}#sk-container-id-2 div.sk-label-container {text-align: center;}#sk-container-id-2 div.sk-container {/* jupyter's `normalize.less` sets `[hidden] { display: none; }` but bootstrap.min.css set `[hidden] { display: none !important; }` so we also need the `!important` here to be able to override the default hidden behavior on the sphinx rendered scikit-learn.org. See: https://github.com/scikit-learn/scikit-learn/issues/21755 */display: inline-block !important;position: relative;}#sk-container-id-2 div.sk-text-repr-fallback {display: none;}</style><div id=\"sk-container-id-2\" class=\"sk-top-container\"><div class=\"sk-text-repr-fallback\"><pre>KNeighborsClassifier()</pre><b>In a Jupyter environment, please rerun this cell to show the HTML representation or trust the notebook. <br />On GitHub, the HTML representation is unable to render, please try loading this page with nbviewer.org.</b></div><div class=\"sk-container\" hidden><div class=\"sk-item\"><div class=\"sk-estimator sk-toggleable\"><input class=\"sk-toggleable__control sk-hidden--visually\" id=\"sk-estimator-id-2\" type=\"checkbox\" checked><label for=\"sk-estimator-id-2\" class=\"sk-toggleable__label sk-toggleable__label-arrow\">KNeighborsClassifier</label><div class=\"sk-toggleable__content\"><pre>KNeighborsClassifier()</pre></div></div></div></div></div>"
      ],
      "text/plain": [
       "KNeighborsClassifier()"
      ]
     },
     "execution_count": 85,
     "metadata": {},
     "output_type": "execute_result"
    }
   ],
   "source": [
    "model1.fit(X1_train, y1_train)"
   ]
  },
  {
   "cell_type": "code",
   "execution_count": 86,
   "id": "d99e3258-eaef-4e05-8854-72ae4ebcc54b",
   "metadata": {},
   "outputs": [
    {
     "data": {
      "text/plain": [
       "array([['NIT-Allahabad', 'B.Tech', 'Civil Engineering'],\n",
       "       ['NIT-Allahabad', 'B.Tech', 'Computer Science and Engineering'],\n",
       "       ['NIT-Rourkela', 'B.Tech', 'Mining Engineering'],\n",
       "       ...,\n",
       "       ['IIT-Bombay', 'B.Tech', 'Aerospace Engineering'],\n",
       "       ['IIT-Jammu', 'B.Tech', 'Computer Science and Engineering'],\n",
       "       ['NIT-Jalandhar', 'B.Tech', 'Civil Engineering']], dtype=object)"
      ]
     },
     "execution_count": 86,
     "metadata": {},
     "output_type": "execute_result"
    }
   ],
   "source": [
    "# predicting the dataset\n",
    "\n",
    "y_pred1 = model1.predict(X1_test)\n",
    "y_pred1"
   ]
  },
  {
   "cell_type": "code",
   "execution_count": 87,
   "id": "c9abb175-06de-4629-9d0b-a6b808777163",
   "metadata": {},
   "outputs": [
    {
     "name": "stderr",
     "output_type": "stream",
     "text": [
      "C:\\ProgramData\\anaconda3\\Lib\\site-packages\\sklearn\\base.py:439: UserWarning: X does not have valid feature names, but KNeighborsClassifier was fitted with feature names\n",
      "  warnings.warn(\n"
     ]
    },
    {
     "data": {
      "text/html": [
       "<div>\n",
       "<style scoped>\n",
       "    .dataframe tbody tr th:only-of-type {\n",
       "        vertical-align: middle;\n",
       "    }\n",
       "\n",
       "    .dataframe tbody tr th {\n",
       "        vertical-align: top;\n",
       "    }\n",
       "\n",
       "    .dataframe thead tr th {\n",
       "        text-align: left;\n",
       "    }\n",
       "</style>\n",
       "<table border=\"1\" class=\"dataframe\">\n",
       "  <thead>\n",
       "    <tr>\n",
       "      <th></th>\n",
       "      <th>College</th>\n",
       "      <th>Branch</th>\n",
       "      <th>Degree</th>\n",
       "    </tr>\n",
       "  </thead>\n",
       "  <tbody>\n",
       "    <tr>\n",
       "      <th>0</th>\n",
       "      <td>IIT-Delhi</td>\n",
       "      <td>B.Tech</td>\n",
       "      <td>Chemical Engineering</td>\n",
       "    </tr>\n",
       "    <tr>\n",
       "      <th>1</th>\n",
       "      <td>IIT-Hyderabad</td>\n",
       "      <td>B.Tech</td>\n",
       "      <td>Mechanical Engineering</td>\n",
       "    </tr>\n",
       "  </tbody>\n",
       "</table>\n",
       "</div>"
      ],
      "text/plain": [
       "         College  Branch                  Degree\n",
       "0      IIT-Delhi  B.Tech    Chemical Engineering\n",
       "1  IIT-Hyderabad  B.Tech  Mechanical Engineering"
      ]
     },
     "execution_count": 87,
     "metadata": {},
     "output_type": "execute_result"
    }
   ],
   "source": [
    "# prediction\n",
    "\n",
    "Prediction1 = pd.DataFrame(model1.predict([[0, 0, 0, 1, 6, 1000, 2841], [5, 5, 1, 0, 2, 1000, 1841]]), columns = [['College', 'Branch', 'Degree']])\n",
    "Prediction1\n",
    "# Prediction1 = model1.predict([[0, 1, 10, 10, 10, 5000, 2841]])\n",
    "# print(Prediction1)"
   ]
  },
  {
   "cell_type": "markdown",
   "id": "4ae52ea6-1ccf-4f58-a413-473cdc4e7c3d",
   "metadata": {},
   "source": [
    "# **<span style=\"color:#ff3385;\">📲 Pickling the model for the deployment</span>**"
   ]
  },
  {
   "cell_type": "code",
   "execution_count": 88,
   "id": "160ef2a4-0695-4cba-a331-06036ce53114",
   "metadata": {},
   "outputs": [],
   "source": [
    "import pickle"
   ]
  },
  {
   "cell_type": "code",
   "execution_count": 89,
   "id": "3119790e-c27c-4323-b7d7-c35e3f2c54ac",
   "metadata": {},
   "outputs": [],
   "source": [
    "pickle.dump(model1, open(\"model1.pkl\", \"wb\"))"
   ]
  },
  {
   "cell_type": "code",
   "execution_count": 90,
   "id": "0244b55f-840f-41c3-95c1-4191c451396c",
   "metadata": {},
   "outputs": [
    {
     "name": "stdout",
     "output_type": "stream",
     "text": [
      "[['NIT-Rourkela' 'Int MSc.' 'Mathematics']]\n"
     ]
    },
    {
     "name": "stderr",
     "output_type": "stream",
     "text": [
      "C:\\ProgramData\\anaconda3\\Lib\\site-packages\\sklearn\\base.py:439: UserWarning: X does not have valid feature names, but KNeighborsClassifier was fitted with feature names\n",
      "  warnings.warn(\n"
     ]
    }
   ],
   "source": [
    "loaded_model = pickle.load(open(\"model1.pkl\", 'rb'))\n",
    "result = loaded_model.predict([[1, 1, 10, 10, 10, 5000, 2841]])\n",
    "print(result)"
   ]
  },
  {
   "cell_type": "code",
   "execution_count": 91,
   "id": "6da7bbe1-a4f2-4310-ad78-3d2b47072c61",
   "metadata": {},
   "outputs": [
    {
     "name": "stdout",
     "output_type": "stream",
     "text": [
      "[['IIT-Delhi' 'B.Tech' 'Chemical Engineering']]\n"
     ]
    },
    {
     "name": "stderr",
     "output_type": "stream",
     "text": [
      "C:\\ProgramData\\anaconda3\\Lib\\site-packages\\sklearn\\base.py:439: UserWarning: X does not have valid feature names, but KNeighborsClassifier was fitted with feature names\n",
      "  warnings.warn(\n"
     ]
    }
   ],
   "source": [
    "result = loaded_model.predict([[0, 6, 0, 0, 0, 1000, 2841]])\n",
    "print(result)"
   ]
  },
  {
   "cell_type": "markdown",
   "id": "e74640b1-ede7-4142-b9cc-1975c4bac177",
   "metadata": {},
   "source": [
    "# **<span style=\"color:#ff3385;\">🤘 Conclusion</span>**\n",
    "It Help to take admission for student\n",
    "***"
   ]
  },
  {
   "cell_type": "code",
   "execution_count": null,
   "id": "6926f952-06b4-4f22-9264-75d639ce000d",
   "metadata": {},
   "outputs": [],
   "source": []
  },
  {
   "cell_type": "code",
   "execution_count": null,
   "id": "dc59d042-91fb-4c6e-bfd4-632904bac935",
   "metadata": {},
   "outputs": [],
   "source": []
  },
  {
   "cell_type": "code",
   "execution_count": null,
   "id": "b98f931f-7fb3-4851-bd4b-678f48df35de",
   "metadata": {},
   "outputs": [],
   "source": []
  }
 ],
 "metadata": {
  "kernelspec": {
   "display_name": "Python 3 (ipykernel)",
   "language": "python",
   "name": "python3"
  },
  "language_info": {
   "codemirror_mode": {
    "name": "ipython",
    "version": 3
   },
   "file_extension": ".py",
   "mimetype": "text/x-python",
   "name": "python",
   "nbconvert_exporter": "python",
   "pygments_lexer": "ipython3",
   "version": "3.11.7"
  }
 },
 "nbformat": 4,
 "nbformat_minor": 5
}
